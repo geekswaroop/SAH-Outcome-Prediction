{
  "nbformat": 4,
  "nbformat_minor": 0,
  "metadata": {
    "colab": {
      "name": "SAH-LR-GOSPred.ipynb",
      "provenance": [],
      "collapsed_sections": []
    },
    "kernelspec": {
      "name": "python3",
      "display_name": "Python 3"
    }
  },
  "cells": [
    {
      "cell_type": "code",
      "metadata": {
        "id": "cN0mX1kjceh0",
        "colab_type": "code",
        "colab": {}
      },
      "source": [
        "import pandas as pd\n",
        "from keras.models import Sequential\n",
        "from keras.layers import Dense\n",
        "from keras.wrappers.scikit_learn import KerasClassifier\n",
        "from keras.utils import np_utils\n",
        "from sklearn.model_selection import cross_val_score\n",
        "from sklearn.model_selection import KFold\n",
        "from sklearn.preprocessing import LabelEncoder\n",
        "from sklearn.pipeline import Pipeline"
      ],
      "execution_count": 0,
      "outputs": []
    },
    {
      "cell_type": "code",
      "metadata": {
        "id": "ZLNEv0nqc1Bn",
        "colab_type": "code",
        "outputId": "684b9c47-534c-45fa-f36f-504ef5346042",
        "colab": {
          "base_uri": "https://localhost:8080/",
          "height": 119
        }
      },
      "source": [
        "df = pd.read_csv('manipal_sah_tr.csv')\n",
        "df_test = pd.read_csv('manipal_sah_test.csv')\n",
        "df.drop(['Radiological Vasospas1', 'Clinical ischemic de0icits', 'Outcome at Discharge'], inplace = True,  axis = 1) \n",
        "df_test.drop(['Radiological Vasospas1', 'Clinical ischemic de0icits', 'Outcome at Discharge'], inplace = True,  axis = 1) \n",
        "\n",
        "print(df.head())"
      ],
      "execution_count": 0,
      "outputs": [
        {
          "output_type": "stream",
          "text": [
            "   Age  Sex  Hypertension  Daibetes  WFNS grade  Outcome at 3 months\n",
            "0   56    1             0         1           1                    1\n",
            "1   54    1             0         1           1                    5\n",
            "2   66    1             0         1           2                    5\n",
            "3   46    1             0         0           1                    5\n",
            "4   67    0             1         1           2                    5\n"
          ],
          "name": "stdout"
        }
      ]
    },
    {
      "cell_type": "code",
      "metadata": {
        "id": "WhIVVQ3Lc-Nt",
        "colab_type": "code",
        "outputId": "88f9dfce-5205-468c-dd04-167220f9bc8e",
        "colab": {
          "base_uri": "https://localhost:8080/",
          "height": 187
        }
      },
      "source": [
        "X = df.loc[:, 'Age':'WFNS grade']\n",
        "Y = df.loc[:,'Outcome at 3 months']\n",
        "Y_GOS = Y-1\n",
        "X.info()"
      ],
      "execution_count": 0,
      "outputs": [
        {
          "output_type": "stream",
          "text": [
            "<class 'pandas.core.frame.DataFrame'>\n",
            "RangeIndex: 627 entries, 0 to 626\n",
            "Data columns (total 5 columns):\n",
            "Age             627 non-null int64\n",
            "Sex             627 non-null int64\n",
            "Hypertension    627 non-null int64\n",
            "Daibetes        627 non-null int64\n",
            "WFNS grade      627 non-null int64\n",
            "dtypes: int64(5)\n",
            "memory usage: 24.6 KB\n"
          ],
          "name": "stdout"
        }
      ]
    },
    {
      "cell_type": "code",
      "metadata": {
        "id": "_HbQcyhndHgl",
        "colab_type": "code",
        "colab": {}
      },
      "source": [
        "from sklearn.model_selection import train_test_split\n",
        "X_train, X_test, y_train, y_test = train_test_split(X,Y_GOS,test_size=0.2, random_state=42, stratify=Y)"
      ],
      "execution_count": 0,
      "outputs": []
    },
    {
      "cell_type": "code",
      "metadata": {
        "id": "xYba62HDdKpG",
        "colab_type": "code",
        "outputId": "9686d2fc-ceb8-4526-bae2-9e451a51fc14",
        "colab": {
          "base_uri": "https://localhost:8080/",
          "height": 187
        }
      },
      "source": [
        "num_classes=5\n",
        "model = Sequential()\n",
        "model.add(Dense(num_classes, activation='softmax', input_dim=5))\n",
        "\n",
        "model.summary()"
      ],
      "execution_count": 0,
      "outputs": [
        {
          "output_type": "stream",
          "text": [
            "Model: \"sequential_3\"\n",
            "_________________________________________________________________\n",
            "Layer (type)                 Output Shape              Param #   \n",
            "=================================================================\n",
            "dense_3 (Dense)              (None, 5)                 30        \n",
            "=================================================================\n",
            "Total params: 30\n",
            "Trainable params: 30\n",
            "Non-trainable params: 0\n",
            "_________________________________________________________________\n"
          ],
          "name": "stdout"
        }
      ]
    },
    {
      "cell_type": "code",
      "metadata": {
        "id": "QUfBPtbTdQwa",
        "colab_type": "code",
        "colab": {}
      },
      "source": [
        "model.compile(loss='sparse_categorical_crossentropy',\n",
        "              optimizer='adam',\n",
        "              metrics=['accuracy'])\n",
        "class_weight = {0: 6.,\n",
        "                1: 6.,\n",
        "                2: 3.,\n",
        "                3: 3.,\n",
        "                4: 1.}"
      ],
      "execution_count": 0,
      "outputs": []
    },
    {
      "cell_type": "code",
      "metadata": {
        "id": "xvUtMlDVdd6C",
        "colab_type": "code",
        "outputId": "e9094d4a-0468-431c-fdfa-b0cc69066cf5",
        "colab": {
          "base_uri": "https://localhost:8080/",
          "height": 1000
        }
      },
      "source": [
        "batch_size = 32\n",
        "num_classes = 5\n",
        "epochs = 100\n",
        "history = model.fit(X_train, y_train,\n",
        "                    batch_size=batch_size,\n",
        "                    epochs=epochs,\n",
        "                    verbose=2,\n",
        "                    validation_data=(X_test, y_test),class_weight=class_weight)"
      ],
      "execution_count": 0,
      "outputs": [
        {
          "output_type": "stream",
          "text": [
            "Train on 501 samples, validate on 126 samples\n",
            "Epoch 1/100\n",
            " - 0s - loss: 23.0255 - acc: 0.0739 - val_loss: 7.8288 - val_acc: 0.0714\n",
            "Epoch 2/100\n",
            " - 0s - loss: 21.2773 - acc: 0.0778 - val_loss: 6.9316 - val_acc: 0.0714\n",
            "Epoch 3/100\n",
            " - 0s - loss: 20.0749 - acc: 0.1357 - val_loss: 6.4744 - val_acc: 0.2063\n",
            "Epoch 4/100\n",
            " - 0s - loss: 19.2995 - acc: 0.2575 - val_loss: 6.2651 - val_acc: 0.2460\n",
            "Epoch 5/100\n",
            " - 0s - loss: 18.4492 - acc: 0.2595 - val_loss: 6.0815 - val_acc: 0.2143\n",
            "Epoch 6/100\n",
            " - 0s - loss: 17.5326 - acc: 0.2395 - val_loss: 5.7974 - val_acc: 0.2222\n",
            "Epoch 7/100\n",
            " - 0s - loss: 16.4768 - acc: 0.1737 - val_loss: 5.5049 - val_acc: 0.1984\n",
            "Epoch 8/100\n",
            " - 0s - loss: 15.3898 - acc: 0.1876 - val_loss: 5.1620 - val_acc: 0.1746\n",
            "Epoch 9/100\n",
            " - 0s - loss: 14.4348 - acc: 0.1996 - val_loss: 4.8674 - val_acc: 0.1587\n",
            "Epoch 10/100\n",
            " - 0s - loss: 13.5980 - acc: 0.2096 - val_loss: 4.5901 - val_acc: 0.1587\n",
            "Epoch 11/100\n",
            " - 0s - loss: 12.8138 - acc: 0.2435 - val_loss: 4.3230 - val_acc: 0.1825\n",
            "Epoch 12/100\n",
            " - 0s - loss: 12.1838 - acc: 0.2295 - val_loss: 4.1248 - val_acc: 0.1667\n",
            "Epoch 13/100\n",
            " - 0s - loss: 11.7146 - acc: 0.2315 - val_loss: 4.0285 - val_acc: 0.1984\n",
            "Epoch 14/100\n",
            " - 0s - loss: 11.5851 - acc: 0.2475 - val_loss: 4.0188 - val_acc: 0.2222\n",
            "Epoch 15/100\n",
            " - 0s - loss: 11.5512 - acc: 0.2715 - val_loss: 4.0291 - val_acc: 0.2222\n",
            "Epoch 16/100\n",
            " - 0s - loss: 11.5477 - acc: 0.3194 - val_loss: 4.0018 - val_acc: 0.2778\n",
            "Epoch 17/100\n",
            " - 0s - loss: 11.5471 - acc: 0.3273 - val_loss: 4.0087 - val_acc: 0.2302\n",
            "Epoch 18/100\n",
            " - 0s - loss: 11.5465 - acc: 0.3154 - val_loss: 4.0136 - val_acc: 0.2460\n",
            "Epoch 19/100\n",
            " - 0s - loss: 11.5372 - acc: 0.3293 - val_loss: 4.0102 - val_acc: 0.2381\n",
            "Epoch 20/100\n",
            " - 0s - loss: 11.5364 - acc: 0.3393 - val_loss: 4.0046 - val_acc: 0.2381\n",
            "Epoch 21/100\n",
            " - 0s - loss: 11.5336 - acc: 0.3273 - val_loss: 4.0169 - val_acc: 0.2302\n",
            "Epoch 22/100\n",
            " - 0s - loss: 11.5322 - acc: 0.3273 - val_loss: 4.0060 - val_acc: 0.2540\n",
            "Epoch 23/100\n",
            " - 0s - loss: 11.5342 - acc: 0.3293 - val_loss: 4.0039 - val_acc: 0.2302\n",
            "Epoch 24/100\n",
            " - 0s - loss: 11.5289 - acc: 0.3333 - val_loss: 4.0104 - val_acc: 0.2460\n",
            "Epoch 25/100\n",
            " - 0s - loss: 11.5225 - acc: 0.3333 - val_loss: 4.0068 - val_acc: 0.2460\n",
            "Epoch 26/100\n",
            " - 0s - loss: 11.5199 - acc: 0.3333 - val_loss: 4.0065 - val_acc: 0.2381\n",
            "Epoch 27/100\n",
            " - 0s - loss: 11.5174 - acc: 0.3234 - val_loss: 4.0075 - val_acc: 0.2460\n",
            "Epoch 28/100\n",
            " - 0s - loss: 11.5212 - acc: 0.2934 - val_loss: 4.0118 - val_acc: 0.2302\n",
            "Epoch 29/100\n",
            " - 0s - loss: 11.5170 - acc: 0.3453 - val_loss: 3.9893 - val_acc: 0.2778\n",
            "Epoch 30/100\n",
            " - 0s - loss: 11.5112 - acc: 0.3313 - val_loss: 4.0134 - val_acc: 0.2381\n",
            "Epoch 31/100\n",
            " - 0s - loss: 11.5108 - acc: 0.3154 - val_loss: 4.0085 - val_acc: 0.2540\n",
            "Epoch 32/100\n",
            " - 0s - loss: 11.5094 - acc: 0.3074 - val_loss: 4.0076 - val_acc: 0.2540\n",
            "Epoch 33/100\n",
            " - 0s - loss: 11.5020 - acc: 0.3154 - val_loss: 4.0060 - val_acc: 0.2460\n",
            "Epoch 34/100\n",
            " - 0s - loss: 11.5016 - acc: 0.3114 - val_loss: 4.0092 - val_acc: 0.2540\n",
            "Epoch 35/100\n",
            " - 0s - loss: 11.5025 - acc: 0.3194 - val_loss: 3.9903 - val_acc: 0.2778\n",
            "Epoch 36/100\n",
            " - 0s - loss: 11.5014 - acc: 0.3114 - val_loss: 4.0201 - val_acc: 0.2381\n",
            "Epoch 37/100\n",
            " - 0s - loss: 11.4975 - acc: 0.3094 - val_loss: 4.0093 - val_acc: 0.2460\n",
            "Epoch 38/100\n",
            " - 0s - loss: 11.4927 - acc: 0.3054 - val_loss: 3.9981 - val_acc: 0.2460\n",
            "Epoch 39/100\n",
            " - 0s - loss: 11.4947 - acc: 0.3214 - val_loss: 4.0061 - val_acc: 0.2540\n",
            "Epoch 40/100\n",
            " - 0s - loss: 11.4899 - acc: 0.2934 - val_loss: 4.0175 - val_acc: 0.2460\n",
            "Epoch 41/100\n",
            " - 0s - loss: 11.4938 - acc: 0.3373 - val_loss: 3.9849 - val_acc: 0.3095\n",
            "Epoch 42/100\n",
            " - 0s - loss: 11.4860 - acc: 0.3114 - val_loss: 4.0260 - val_acc: 0.1984\n",
            "Epoch 43/100\n",
            " - 0s - loss: 11.4859 - acc: 0.3014 - val_loss: 4.0068 - val_acc: 0.2302\n",
            "Epoch 44/100\n",
            " - 0s - loss: 11.4806 - acc: 0.3234 - val_loss: 3.9834 - val_acc: 0.2619\n",
            "Epoch 45/100\n",
            " - 0s - loss: 11.4926 - acc: 0.3573 - val_loss: 3.9997 - val_acc: 0.2302\n",
            "Epoch 46/100\n",
            " - 0s - loss: 11.4745 - acc: 0.3014 - val_loss: 4.0153 - val_acc: 0.2063\n",
            "Epoch 47/100\n",
            " - 0s - loss: 11.4776 - acc: 0.3054 - val_loss: 4.0088 - val_acc: 0.2302\n",
            "Epoch 48/100\n",
            " - 0s - loss: 11.4735 - acc: 0.3134 - val_loss: 3.9972 - val_acc: 0.2540\n",
            "Epoch 49/100\n",
            " - 0s - loss: 11.4741 - acc: 0.3174 - val_loss: 3.9860 - val_acc: 0.2460\n",
            "Epoch 50/100\n",
            " - 0s - loss: 11.4662 - acc: 0.3074 - val_loss: 4.0055 - val_acc: 0.2302\n",
            "Epoch 51/100\n",
            " - 0s - loss: 11.4633 - acc: 0.3074 - val_loss: 4.0070 - val_acc: 0.2302\n",
            "Epoch 52/100\n",
            " - 0s - loss: 11.4671 - acc: 0.3074 - val_loss: 4.0063 - val_acc: 0.2460\n",
            "Epoch 53/100\n",
            " - 0s - loss: 11.4686 - acc: 0.3094 - val_loss: 3.9985 - val_acc: 0.2460\n",
            "Epoch 54/100\n",
            " - 0s - loss: 11.4638 - acc: 0.3014 - val_loss: 4.0042 - val_acc: 0.2222\n",
            "Epoch 55/100\n",
            " - 0s - loss: 11.4615 - acc: 0.3473 - val_loss: 3.9858 - val_acc: 0.2619\n",
            "Epoch 56/100\n",
            " - 0s - loss: 11.4563 - acc: 0.2954 - val_loss: 4.0132 - val_acc: 0.2460\n",
            "Epoch 57/100\n",
            " - 0s - loss: 11.4531 - acc: 0.3054 - val_loss: 4.0042 - val_acc: 0.2302\n",
            "Epoch 58/100\n",
            " - 0s - loss: 11.4572 - acc: 0.3114 - val_loss: 3.9944 - val_acc: 0.2460\n",
            "Epoch 59/100\n",
            " - 0s - loss: 11.4525 - acc: 0.3194 - val_loss: 4.0055 - val_acc: 0.2381\n",
            "Epoch 60/100\n",
            " - 0s - loss: 11.4518 - acc: 0.3333 - val_loss: 3.9831 - val_acc: 0.2857\n",
            "Epoch 61/100\n",
            " - 0s - loss: 11.4535 - acc: 0.2914 - val_loss: 4.0257 - val_acc: 0.2302\n",
            "Epoch 62/100\n",
            " - 0s - loss: 11.4450 - acc: 0.3134 - val_loss: 3.9808 - val_acc: 0.2937\n",
            "Epoch 63/100\n",
            " - 0s - loss: 11.4437 - acc: 0.3533 - val_loss: 3.9829 - val_acc: 0.2778\n",
            "Epoch 64/100\n",
            " - 0s - loss: 11.4536 - acc: 0.3094 - val_loss: 4.0199 - val_acc: 0.2381\n",
            "Epoch 65/100\n",
            " - 0s - loss: 11.4520 - acc: 0.3154 - val_loss: 3.9919 - val_acc: 0.2857\n",
            "Epoch 66/100\n",
            " - 0s - loss: 11.4397 - acc: 0.3094 - val_loss: 4.0056 - val_acc: 0.2302\n",
            "Epoch 67/100\n",
            " - 0s - loss: 11.4410 - acc: 0.3114 - val_loss: 3.9847 - val_acc: 0.2619\n",
            "Epoch 68/100\n",
            " - 0s - loss: 11.4452 - acc: 0.3014 - val_loss: 3.9943 - val_acc: 0.2460\n",
            "Epoch 69/100\n",
            " - 0s - loss: 11.4360 - acc: 0.3653 - val_loss: 3.9846 - val_acc: 0.2698\n",
            "Epoch 70/100\n",
            " - 0s - loss: 11.4409 - acc: 0.2954 - val_loss: 4.0287 - val_acc: 0.2143\n",
            "Epoch 71/100\n",
            " - 0s - loss: 11.4303 - acc: 0.3054 - val_loss: 3.9948 - val_acc: 0.2302\n",
            "Epoch 72/100\n",
            " - 0s - loss: 11.4262 - acc: 0.3293 - val_loss: 3.9789 - val_acc: 0.2857\n",
            "Epoch 73/100\n",
            " - 0s - loss: 11.4285 - acc: 0.3194 - val_loss: 4.0021 - val_acc: 0.2222\n",
            "Epoch 74/100\n",
            " - 0s - loss: 11.4246 - acc: 0.3174 - val_loss: 3.9903 - val_acc: 0.2540\n",
            "Epoch 75/100\n",
            " - 0s - loss: 11.4318 - acc: 0.3174 - val_loss: 3.9992 - val_acc: 0.2540\n",
            "Epoch 76/100\n",
            " - 0s - loss: 11.4185 - acc: 0.3234 - val_loss: 3.9924 - val_acc: 0.2540\n",
            "Epoch 77/100\n",
            " - 0s - loss: 11.4253 - acc: 0.2914 - val_loss: 4.0081 - val_acc: 0.2460\n",
            "Epoch 78/100\n",
            " - 0s - loss: 11.4228 - acc: 0.3313 - val_loss: 3.9867 - val_acc: 0.2857\n",
            "Epoch 79/100\n",
            " - 0s - loss: 11.4192 - acc: 0.3273 - val_loss: 3.9853 - val_acc: 0.2778\n",
            "Epoch 80/100\n",
            " - 0s - loss: 11.4143 - acc: 0.3134 - val_loss: 4.0017 - val_acc: 0.2460\n",
            "Epoch 81/100\n",
            " - 0s - loss: 11.4169 - acc: 0.3214 - val_loss: 3.9938 - val_acc: 0.2063\n",
            "Epoch 82/100\n",
            " - 0s - loss: 11.4170 - acc: 0.2934 - val_loss: 4.0097 - val_acc: 0.2460\n",
            "Epoch 83/100\n",
            " - 0s - loss: 11.4175 - acc: 0.3493 - val_loss: 3.9689 - val_acc: 0.3413\n",
            "Epoch 84/100\n",
            " - 0s - loss: 11.4228 - acc: 0.3174 - val_loss: 4.0057 - val_acc: 0.2460\n",
            "Epoch 85/100\n",
            " - 0s - loss: 11.4145 - acc: 0.3373 - val_loss: 3.9926 - val_acc: 0.2778\n",
            "Epoch 86/100\n",
            " - 0s - loss: 11.4119 - acc: 0.2974 - val_loss: 4.0033 - val_acc: 0.2302\n",
            "Epoch 87/100\n",
            " - 0s - loss: 11.4062 - acc: 0.3154 - val_loss: 3.9885 - val_acc: 0.2540\n",
            "Epoch 88/100\n",
            " - 0s - loss: 11.4113 - acc: 0.3493 - val_loss: 3.9780 - val_acc: 0.2857\n",
            "Epoch 89/100\n",
            " - 0s - loss: 11.4084 - acc: 0.3533 - val_loss: 3.9952 - val_acc: 0.2460\n",
            "Epoch 90/100\n",
            " - 0s - loss: 11.4068 - acc: 0.3313 - val_loss: 3.9966 - val_acc: 0.2222\n",
            "Epoch 91/100\n",
            " - 0s - loss: 11.4070 - acc: 0.2934 - val_loss: 4.0216 - val_acc: 0.2302\n",
            "Epoch 92/100\n",
            " - 0s - loss: 11.4056 - acc: 0.3313 - val_loss: 3.9926 - val_acc: 0.2540\n",
            "Epoch 93/100\n",
            " - 0s - loss: 11.3979 - acc: 0.3453 - val_loss: 3.9815 - val_acc: 0.2778\n",
            "Epoch 94/100\n",
            " - 0s - loss: 11.4037 - acc: 0.3373 - val_loss: 3.9933 - val_acc: 0.2381\n",
            "Epoch 95/100\n",
            " - 0s - loss: 11.3982 - acc: 0.3114 - val_loss: 3.9977 - val_acc: 0.2540\n",
            "Epoch 96/100\n",
            " - 0s - loss: 11.4084 - acc: 0.2954 - val_loss: 4.0110 - val_acc: 0.2381\n",
            "Epoch 97/100\n",
            " - 0s - loss: 11.3981 - acc: 0.3214 - val_loss: 3.9841 - val_acc: 0.2540\n",
            "Epoch 98/100\n",
            " - 0s - loss: 11.4001 - acc: 0.3693 - val_loss: 3.9671 - val_acc: 0.3571\n",
            "Epoch 99/100\n",
            " - 0s - loss: 11.3983 - acc: 0.3373 - val_loss: 4.0260 - val_acc: 0.2460\n",
            "Epoch 100/100\n",
            " - 0s - loss: 11.3958 - acc: 0.3154 - val_loss: 3.9885 - val_acc: 0.2540\n"
          ],
          "name": "stdout"
        }
      ]
    },
    {
      "cell_type": "code",
      "metadata": {
        "id": "cDiuL36_dfee",
        "colab_type": "code",
        "colab": {}
      },
      "source": [
        "import numpy as np"
      ],
      "execution_count": 0,
      "outputs": []
    },
    {
      "cell_type": "code",
      "metadata": {
        "id": "MTsHHoqRdtRz",
        "colab_type": "code",
        "outputId": "aab536b8-0ff8-460a-e761-d354ea4fddc3",
        "colab": {
          "base_uri": "https://localhost:8080/",
          "height": 136
        }
      },
      "source": [
        "np.argmax(model.predict_proba(df_test),axis = 1)\n"
      ],
      "execution_count": 0,
      "outputs": [
        {
          "output_type": "execute_result",
          "data": {
            "text/plain": [
              "array([1, 1, 1, 1, 1, 1, 1, 1, 0, 1, 1, 1, 1, 1, 1, 1, 1, 1, 1, 1, 1, 1,\n",
              "       1, 1, 1, 1, 1, 1, 1, 1, 1, 1, 1, 1, 1, 1, 1, 1, 1, 1, 1, 1, 1, 1,\n",
              "       1, 1, 1, 1, 1, 1, 1, 1, 1, 1, 1, 1, 1, 1, 1, 1, 1, 1, 1, 1, 1, 1,\n",
              "       1, 1, 1, 1, 1, 1, 1, 1, 1, 1, 1, 1, 1, 1, 1, 1, 1, 1, 1, 1, 1, 1,\n",
              "       1, 1, 1, 1, 1, 1, 1, 1, 1, 1, 1, 1, 1, 1, 1, 1, 1, 1, 1, 1, 1, 1,\n",
              "       1, 1, 1, 1, 1, 1, 1, 1, 1, 1, 1, 1, 1, 1, 1, 1, 1, 1, 1, 1, 1, 1,\n",
              "       1, 1, 1, 1, 1, 1, 1, 1, 1, 1, 1, 1, 1, 1, 1, 1, 1, 1])"
            ]
          },
          "metadata": {
            "tags": []
          },
          "execution_count": 26
        }
      ]
    },
    {
      "cell_type": "code",
      "metadata": {
        "id": "-jCzfev4duUN",
        "colab_type": "code",
        "colab": {}
      },
      "source": [
        ""
      ],
      "execution_count": 0,
      "outputs": []
    }
  ]
}
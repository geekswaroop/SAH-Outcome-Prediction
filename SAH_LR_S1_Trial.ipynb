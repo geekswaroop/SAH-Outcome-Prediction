{
  "nbformat": 4,
  "nbformat_minor": 0,
  "metadata": {
    "colab": {
      "name": "SAH-LR-S1-Trial.ipynb",
      "provenance": [],
      "collapsed_sections": []
    },
    "kernelspec": {
      "name": "python3",
      "display_name": "Python 3"
    }
  },
  "cells": [
    {
      "cell_type": "code",
      "metadata": {
        "id": "jcNGxodGpOdJ",
        "colab_type": "code",
        "colab": {}
      },
      "source": [
        "import os\n",
        "import pandas as pd\n",
        "import numpy as np\n",
        "import matplotlib.pyplot as plt"
      ],
      "execution_count": 0,
      "outputs": []
    },
    {
      "cell_type": "code",
      "metadata": {
        "id": "yGtzgZD7pVNs",
        "colab_type": "code",
        "colab": {}
      },
      "source": [
        "df = pd.read_csv('manipal_sah_tr.csv')\n",
        "df_test = pd.read_csv('manipal_sah_test.csv')"
      ],
      "execution_count": 0,
      "outputs": []
    },
    {
      "cell_type": "code",
      "metadata": {
        "id": "BybmhzTvpXWt",
        "colab_type": "code",
        "outputId": "db67ad4c-3a88-4fe6-d4bb-e872a13af3b8",
        "colab": {
          "base_uri": "https://localhost:8080/",
          "height": 748
        }
      },
      "source": [
        "print(df.head())\n",
        "print(df_test.head())\n",
        "df.drop(['Radiological Vasospas1', 'Clinical ischemic de0icits', 'Outcome at Discharge'], axis = 1) \n",
        "#df_test.drop(['Radiological Vasospas1', 'Clinical ischemic de0icits', 'Outcome at Discharge'], axis = 1) \n",
        "print(df.head())\n",
        "df_test = df_test.loc[:, 'Age':'WFNS grade']\n",
        "print(df_test.head())\n",
        "print(df.info())"
      ],
      "execution_count": 35,
      "outputs": [
        {
          "output_type": "stream",
          "text": [
            "   Age  Sex  ...  Outcome at Discharge  Outcome at 3 months\n",
            "0   56    1  ...                     3                    1\n",
            "1   54    1  ...                     5                    5\n",
            "2   66    1  ...                     5                    5\n",
            "3   46    1  ...                     5                    5\n",
            "4   67    0  ...                     5                    5\n",
            "\n",
            "[5 rows x 9 columns]\n",
            "   Age  Sex  Hypertension  Daibetes  WFNS grade\n",
            "0   65    0             0         0           2\n",
            "1   80    0             0         1           1\n",
            "2   49    1             0         1           1\n",
            "3   50    1             1         1           3\n",
            "4   60    1             0         1           3\n",
            "   Age  Sex  ...  Outcome at Discharge  Outcome at 3 months\n",
            "0   56    1  ...                     3                    1\n",
            "1   54    1  ...                     5                    5\n",
            "2   66    1  ...                     5                    5\n",
            "3   46    1  ...                     5                    5\n",
            "4   67    0  ...                     5                    5\n",
            "\n",
            "[5 rows x 9 columns]\n",
            "   Age  Sex  Hypertension  Daibetes  WFNS grade\n",
            "0   65    0             0         0           2\n",
            "1   80    0             0         1           1\n",
            "2   49    1             0         1           1\n",
            "3   50    1             1         1           3\n",
            "4   60    1             0         1           3\n",
            "<class 'pandas.core.frame.DataFrame'>\n",
            "RangeIndex: 627 entries, 0 to 626\n",
            "Data columns (total 9 columns):\n",
            "Age                           627 non-null int64\n",
            "Sex                           627 non-null int64\n",
            "Hypertension                  627 non-null int64\n",
            "Daibetes                      627 non-null int64\n",
            "WFNS grade                    627 non-null int64\n",
            "Radiological Vasospas1        627 non-null int64\n",
            "Clinical ischemic de0icits    627 non-null int64\n",
            "Outcome at Discharge          627 non-null int64\n",
            "Outcome at 3 months           627 non-null int64\n",
            "dtypes: int64(9)\n",
            "memory usage: 44.2 KB\n",
            "None\n"
          ],
          "name": "stdout"
        }
      ]
    },
    {
      "cell_type": "code",
      "metadata": {
        "id": "XV2sznsnp3-t",
        "colab_type": "code",
        "colab": {}
      },
      "source": [
        "from sklearn.model_selection import train_test_split\n",
        "X = df.loc[:,'Age':'WFNS grade']\n",
        "y = df.loc[:, 'Outcome at 3 months']\n",
        "X_train, X_test, y_train, y_test = train_test_split(X,y,test_size=0.2, random_state=42, stratify=y)"
      ],
      "execution_count": 0,
      "outputs": []
    },
    {
      "cell_type": "code",
      "metadata": {
        "id": "321CUSSBpzMF",
        "colab_type": "code",
        "colab": {}
      },
      "source": [
        "#corr = df.corr()\n",
        "#fig = plt.figure()\n",
        "#ax = fig.add_subplot(111)\n",
        "#cax = ax.matshow(corr,cmap='coolwarm', vmin=-1, vmax=1)\n",
        "#fig.colorbar(cax)\n",
        "#ticks = np.arange(0,len(df.columns),1)\n",
        "#ax.set_xticks(ticks)\n",
        "#plt.xticks(rotation=90)\n",
        "#ax.set_yticks(ticks)\n",
        "#ax.set_xticklabels(df.columns)\n",
        "#ax.set_yticklabels(df.columns)\n",
        "#plt.show()"
      ],
      "execution_count": 0,
      "outputs": []
    },
    {
      "cell_type": "code",
      "metadata": {
        "id": "TCWwmJ1DrwtQ",
        "colab_type": "code",
        "colab": {}
      },
      "source": [
        ""
      ],
      "execution_count": 0,
      "outputs": []
    },
    {
      "cell_type": "code",
      "metadata": {
        "id": "6SUXB0EIqR7M",
        "colab_type": "code",
        "outputId": "028cd120-d28e-4c3f-bb72-609df5631e57",
        "colab": {
          "base_uri": "https://localhost:8080/",
          "height": 136
        }
      },
      "source": [
        "print(X_train.shape)\n",
        "print(y_train.shape)\n",
        "print(X_test.shape)\n",
        "print(y_test.shape)\n",
        "print(df_test.shape)\n",
        "print(df_test.columns)\n",
        "print(X_test.columns)\n",
        "#df_sub_ready=df_sub_ready.drop(['Unnamed: 0'],axis=1)"
      ],
      "execution_count": 30,
      "outputs": [
        {
          "output_type": "stream",
          "text": [
            "(501, 5)\n",
            "(501,)\n",
            "(126, 5)\n",
            "(126,)\n",
            "(150, 5)\n",
            "Index(['Age', 'Sex', 'Hypertension', 'Daibetes', 'WFNS grade'], dtype='object')\n",
            "Index(['Age', 'Sex', 'Hypertension', 'Daibetes', 'WFNS grade'], dtype='object')\n"
          ],
          "name": "stdout"
        }
      ]
    },
    {
      "cell_type": "code",
      "metadata": {
        "id": "cu85oOntuJWu",
        "colab_type": "code",
        "colab": {}
      },
      "source": [
        "from sklearn.ensemble import RandomForestClassifier\n",
        "from sklearn.linear_model import LogisticRegression\n",
        "from sklearn.svm import LinearSVC\n",
        "from sklearn.metrics import roc_auc_score\n",
        "from sklearn.model_selection import train_test_split"
      ],
      "execution_count": 0,
      "outputs": []
    },
    {
      "cell_type": "code",
      "metadata": {
        "id": "ixbEkzSevwHA",
        "colab_type": "code",
        "colab": {}
      },
      "source": [
        "import xgboost as xgb\n",
        "from sklearn import metrics\n",
        "from sklearn.model_selection import cross_validate\n",
        "from sklearn.model_selection import learning_curve, GridSearchCV\n",
        "train = df\n",
        "target = 'Outcome at 3 months'\n",
        "IDcol = 'Unnamed: 0'\n",
        "predictors = [x for x in train.columns if x not in [target, IDcol]]"
      ],
      "execution_count": 0,
      "outputs": []
    },
    {
      "cell_type": "code",
      "metadata": {
        "id": "7Sj_n16GwNcY",
        "colab_type": "code",
        "colab": {}
      },
      "source": [
        "lr = LogisticRegression()\n"
      ],
      "execution_count": 0,
      "outputs": []
    },
    {
      "cell_type": "code",
      "metadata": {
        "id": "EyE8lKBducvw",
        "colab_type": "code",
        "colab": {
          "base_uri": "https://localhost:8080/",
          "height": 170
        },
        "outputId": "9a95f107-cccd-43c5-d0e5-d9d7e9f00525"
      },
      "source": [
        "lr.fit(X_train, y_train)"
      ],
      "execution_count": 37,
      "outputs": [
        {
          "output_type": "stream",
          "text": [
            "/usr/local/lib/python3.6/dist-packages/sklearn/linear_model/logistic.py:432: FutureWarning: Default solver will be changed to 'lbfgs' in 0.22. Specify a solver to silence this warning.\n",
            "  FutureWarning)\n",
            "/usr/local/lib/python3.6/dist-packages/sklearn/linear_model/logistic.py:469: FutureWarning: Default multi_class will be changed to 'auto' in 0.22. Specify the multi_class option to silence this warning.\n",
            "  \"this warning.\", FutureWarning)\n"
          ],
          "name": "stderr"
        },
        {
          "output_type": "execute_result",
          "data": {
            "text/plain": [
              "LogisticRegression(C=1.0, class_weight=None, dual=False, fit_intercept=True,\n",
              "                   intercept_scaling=1, l1_ratio=None, max_iter=100,\n",
              "                   multi_class='warn', n_jobs=None, penalty='l2',\n",
              "                   random_state=None, solver='warn', tol=0.0001, verbose=0,\n",
              "                   warm_start=False)"
            ]
          },
          "metadata": {
            "tags": []
          },
          "execution_count": 37
        }
      ]
    },
    {
      "cell_type": "code",
      "metadata": {
        "id": "su-B-_mxvRFI",
        "colab_type": "code",
        "colab": {
          "base_uri": "https://localhost:8080/",
          "height": 34
        },
        "outputId": "4c7cc190-7bec-4f25-e884-717e376bcabb"
      },
      "source": [
        "lr.score(X_test, y_test)\n"
      ],
      "execution_count": 38,
      "outputs": [
        {
          "output_type": "execute_result",
          "data": {
            "text/plain": [
              "0.49206349206349204"
            ]
          },
          "metadata": {
            "tags": []
          },
          "execution_count": 38
        }
      ]
    },
    {
      "cell_type": "code",
      "metadata": {
        "id": "P96E555NvcB6",
        "colab_type": "code",
        "colab": {}
      },
      "source": [
        ""
      ],
      "execution_count": 0,
      "outputs": []
    }
  ]
}
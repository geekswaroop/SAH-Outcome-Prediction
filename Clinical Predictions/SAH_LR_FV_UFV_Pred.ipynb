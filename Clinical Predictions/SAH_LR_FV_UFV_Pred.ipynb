{
  "nbformat": 4,
  "nbformat_minor": 0,
  "metadata": {
    "colab": {
      "name": "SAH-LR-FV/UFV-Pred.ipynb",
      "provenance": [],
      "collapsed_sections": []
    },
    "kernelspec": {
      "name": "python3",
      "display_name": "Python 3"
    }
  },
  "cells": [
    {
      "cell_type": "code",
      "metadata": {
        "id": "p8gk0RLueyQK",
        "colab_type": "code",
        "colab": {}
      },
      "source": [
        "import pandas as pd\n",
        "from keras.models import Sequential\n",
        "from keras.layers import Dense\n",
        "from keras.wrappers.scikit_learn import KerasClassifier\n",
        "from keras.utils import np_utils\n",
        "from sklearn.model_selection import cross_val_score\n",
        "from sklearn.model_selection import KFold\n",
        "from sklearn.preprocessing import LabelEncoder\n",
        "from sklearn.pipeline import Pipeline"
      ],
      "execution_count": 0,
      "outputs": []
    },
    {
      "cell_type": "code",
      "metadata": {
        "id": "bXiWg2oWe-gm",
        "colab_type": "code",
        "outputId": "f708fb87-4c75-4352-ba10-bcfdfb569d89",
        "colab": {
          "base_uri": "https://localhost:8080/",
          "height": 119
        }
      },
      "source": [
        "df = pd.read_csv('manipal_sah_tr.csv')\n",
        "df_test = pd.read_csv('manipal_sah_test.csv')\n",
        "df.drop(['Radiological Vasospas1', 'Clinical ischemic de0icits', 'Outcome at Discharge'], inplace = True,  axis = 1) \n",
        "df_test.drop(['Radiological Vasospas1', 'Clinical ischemic de0icits', 'Outcome at Discharge'], inplace = True,  axis = 1) \n",
        "\n",
        "print(df.head())"
      ],
      "execution_count": 22,
      "outputs": [
        {
          "output_type": "stream",
          "text": [
            "   Age  Sex  Hypertension  Daibetes  WFNS grade  Outcome at 3 months\n",
            "0   56    1             0         1           1                    1\n",
            "1   54    1             0         1           1                    5\n",
            "2   66    1             0         1           2                    5\n",
            "3   46    1             0         0           1                    5\n",
            "4   67    0             1         1           2                    5\n"
          ],
          "name": "stdout"
        }
      ]
    },
    {
      "cell_type": "code",
      "metadata": {
        "id": "0-PHqjz1fC1P",
        "colab_type": "code",
        "outputId": "948842a3-6b7e-4739-ae4c-3c35cbd35d7f",
        "colab": {
          "base_uri": "https://localhost:8080/",
          "height": 187
        }
      },
      "source": [
        "X = df.loc[:, 'Age':'WFNS grade']\n",
        "Y = df.loc[:,'Outcome at 3 months']\n",
        "#Y = Y.to_frame()\n",
        "X.info()\n",
        "#Y.info()"
      ],
      "execution_count": 23,
      "outputs": [
        {
          "output_type": "stream",
          "text": [
            "<class 'pandas.core.frame.DataFrame'>\n",
            "RangeIndex: 627 entries, 0 to 626\n",
            "Data columns (total 5 columns):\n",
            "Age             627 non-null int64\n",
            "Sex             627 non-null int64\n",
            "Hypertension    627 non-null int64\n",
            "Daibetes        627 non-null int64\n",
            "WFNS grade      627 non-null int64\n",
            "dtypes: int64(5)\n",
            "memory usage: 24.6 KB\n"
          ],
          "name": "stdout"
        }
      ]
    },
    {
      "cell_type": "code",
      "metadata": {
        "id": "MgMQ48DOfEae",
        "colab_type": "code",
        "colab": {}
      },
      "source": [
        "for i in range(len(Y)):\n",
        "  if Y[i]>=4:\n",
        "    Y[i] = 1\n",
        "  else:\n",
        "    Y[i] = 0\n"
      ],
      "execution_count": 0,
      "outputs": []
    },
    {
      "cell_type": "code",
      "metadata": {
        "id": "s1ucdEh9fGL7",
        "colab_type": "code",
        "colab": {}
      },
      "source": [
        "Y = Y.to_frame()"
      ],
      "execution_count": 0,
      "outputs": []
    },
    {
      "cell_type": "code",
      "metadata": {
        "id": "XBppe4XBfHVQ",
        "colab_type": "code",
        "colab": {}
      },
      "source": [
        "from sklearn.model_selection import train_test_split\n",
        "X_train, X_test, y_train, y_test = train_test_split(X,Y,test_size=0.2, random_state=42, stratify=Y)"
      ],
      "execution_count": 0,
      "outputs": []
    },
    {
      "cell_type": "code",
      "metadata": {
        "id": "SWilYCxHfIqP",
        "colab_type": "code",
        "outputId": "1466f1f0-09ec-453c-8543-4d87826bc9c6",
        "colab": {
          "base_uri": "https://localhost:8080/",
          "height": 289
        }
      },
      "source": [
        "num_classes=2\n",
        "model = Sequential()\n",
        "model.add(Dense(128, activation='relu', input_dim = 5))\n",
        "model.add(Dense(128, activation='relu'))\n",
        "model.add(Dense(128, activation='relu'))\n",
        "model.add(Dense(num_classes, activation='softmax'))\n",
        "\n",
        "model.summary()"
      ],
      "execution_count": 27,
      "outputs": [
        {
          "output_type": "stream",
          "text": [
            "Model: \"sequential_2\"\n",
            "_________________________________________________________________\n",
            "Layer (type)                 Output Shape              Param #   \n",
            "=================================================================\n",
            "dense_5 (Dense)              (None, 128)               768       \n",
            "_________________________________________________________________\n",
            "dense_6 (Dense)              (None, 128)               16512     \n",
            "_________________________________________________________________\n",
            "dense_7 (Dense)              (None, 128)               16512     \n",
            "_________________________________________________________________\n",
            "dense_8 (Dense)              (None, 2)                 258       \n",
            "=================================================================\n",
            "Total params: 34,050\n",
            "Trainable params: 34,050\n",
            "Non-trainable params: 0\n",
            "_________________________________________________________________\n"
          ],
          "name": "stdout"
        }
      ]
    },
    {
      "cell_type": "code",
      "metadata": {
        "id": "7wNsLifTfKKq",
        "colab_type": "code",
        "colab": {}
      },
      "source": [
        "model.compile(loss='sparse_categorical_crossentropy',\n",
        "              optimizer='adam',\n",
        "              metrics=['accuracy'])\n",
        "class_weight = {0: 6.,\n",
        "                1: 6.,\n",
        "                2: 3.,\n",
        "                3: 3.,\n",
        "                4: 1.}"
      ],
      "execution_count": 0,
      "outputs": []
    },
    {
      "cell_type": "code",
      "metadata": {
        "id": "PkD9KSCufLV3",
        "colab_type": "code",
        "outputId": "b697fccd-981c-44a3-c0bb-7f69bdfd6304",
        "colab": {
          "base_uri": "https://localhost:8080/",
          "height": 1000
        }
      },
      "source": [
        "batch_size = 32\n",
        "num_classes = 2\n",
        "epochs = 100\n",
        "history = model.fit(X_train, y_train,\n",
        "                    batch_size=batch_size,\n",
        "                    epochs=epochs,\n",
        "                    verbose=2,\n",
        "                    validation_data=(X_test, y_test),class_weight=class_weight)"
      ],
      "execution_count": 29,
      "outputs": [
        {
          "output_type": "stream",
          "text": [
            "Train on 501 samples, validate on 126 samples\n",
            "Epoch 1/100\n",
            " - 0s - loss: 4.7790 - acc: 0.6427 - val_loss: 0.6589 - val_acc: 0.6825\n",
            "Epoch 2/100\n",
            " - 0s - loss: 3.8979 - acc: 0.6826 - val_loss: 0.6336 - val_acc: 0.6825\n",
            "Epoch 3/100\n",
            " - 0s - loss: 3.6879 - acc: 0.6866 - val_loss: 0.6270 - val_acc: 0.6825\n",
            "Epoch 4/100\n",
            " - 0s - loss: 3.6734 - acc: 0.6806 - val_loss: 0.6414 - val_acc: 0.6825\n",
            "Epoch 5/100\n",
            " - 0s - loss: 3.9096 - acc: 0.6487 - val_loss: 0.7434 - val_acc: 0.3175\n",
            "Epoch 6/100\n",
            " - 0s - loss: 4.1622 - acc: 0.6168 - val_loss: 0.6273 - val_acc: 0.6825\n",
            "Epoch 7/100\n",
            " - 0s - loss: 3.7625 - acc: 0.6747 - val_loss: 0.6577 - val_acc: 0.6825\n",
            "Epoch 8/100\n",
            " - 0s - loss: 4.0102 - acc: 0.6687 - val_loss: 0.7285 - val_acc: 0.6825\n",
            "Epoch 9/100\n",
            " - 0s - loss: 4.0279 - acc: 0.6707 - val_loss: 0.6344 - val_acc: 0.6825\n",
            "Epoch 10/100\n",
            " - 0s - loss: 3.7389 - acc: 0.6766 - val_loss: 0.6354 - val_acc: 0.6746\n",
            "Epoch 11/100\n",
            " - 0s - loss: 3.8261 - acc: 0.6467 - val_loss: 0.6291 - val_acc: 0.6746\n",
            "Epoch 12/100\n",
            " - 0s - loss: 3.8814 - acc: 0.6906 - val_loss: 0.6763 - val_acc: 0.6825\n",
            "Epoch 13/100\n",
            " - 0s - loss: 3.7539 - acc: 0.6886 - val_loss: 0.6464 - val_acc: 0.6825\n",
            "Epoch 14/100\n",
            " - 0s - loss: 3.6462 - acc: 0.6786 - val_loss: 0.6309 - val_acc: 0.6746\n",
            "Epoch 15/100\n",
            " - 0s - loss: 3.6411 - acc: 0.6846 - val_loss: 0.6328 - val_acc: 0.6905\n",
            "Epoch 16/100\n",
            " - 0s - loss: 3.6604 - acc: 0.6846 - val_loss: 0.6490 - val_acc: 0.6746\n",
            "Epoch 17/100\n",
            " - 0s - loss: 3.7214 - acc: 0.6906 - val_loss: 0.6480 - val_acc: 0.6270\n",
            "Epoch 18/100\n",
            " - 0s - loss: 3.6138 - acc: 0.6846 - val_loss: 0.6341 - val_acc: 0.6746\n",
            "Epoch 19/100\n",
            " - 0s - loss: 3.6697 - acc: 0.6926 - val_loss: 0.6407 - val_acc: 0.6746\n",
            "Epoch 20/100\n",
            " - 0s - loss: 3.6478 - acc: 0.6727 - val_loss: 0.6522 - val_acc: 0.6746\n",
            "Epoch 21/100\n",
            " - 0s - loss: 3.5938 - acc: 0.6886 - val_loss: 0.6386 - val_acc: 0.6746\n",
            "Epoch 22/100\n",
            " - 0s - loss: 3.6647 - acc: 0.6806 - val_loss: 0.6392 - val_acc: 0.6746\n",
            "Epoch 23/100\n",
            " - 0s - loss: 3.6809 - acc: 0.6806 - val_loss: 0.6591 - val_acc: 0.6746\n",
            "Epoch 24/100\n",
            " - 0s - loss: 3.6636 - acc: 0.6846 - val_loss: 0.6363 - val_acc: 0.6825\n",
            "Epoch 25/100\n",
            " - 0s - loss: 3.6100 - acc: 0.6846 - val_loss: 0.6481 - val_acc: 0.6746\n",
            "Epoch 26/100\n",
            " - 0s - loss: 3.6809 - acc: 0.6886 - val_loss: 0.6402 - val_acc: 0.6746\n",
            "Epoch 27/100\n",
            " - 0s - loss: 3.6579 - acc: 0.6806 - val_loss: 0.6458 - val_acc: 0.6190\n",
            "Epoch 28/100\n",
            " - 0s - loss: 3.7449 - acc: 0.6687 - val_loss: 0.6480 - val_acc: 0.6190\n",
            "Epoch 29/100\n",
            " - 0s - loss: 3.6050 - acc: 0.6826 - val_loss: 0.6359 - val_acc: 0.6746\n",
            "Epoch 30/100\n",
            " - 0s - loss: 3.6179 - acc: 0.6866 - val_loss: 0.6388 - val_acc: 0.6746\n",
            "Epoch 31/100\n",
            " - 0s - loss: 3.6712 - acc: 0.6786 - val_loss: 0.6593 - val_acc: 0.6746\n",
            "Epoch 32/100\n",
            " - 0s - loss: 3.6317 - acc: 0.6986 - val_loss: 0.6358 - val_acc: 0.6825\n",
            "Epoch 33/100\n",
            " - 0s - loss: 3.6211 - acc: 0.6866 - val_loss: 0.6452 - val_acc: 0.6587\n",
            "Epoch 34/100\n",
            " - 0s - loss: 3.6127 - acc: 0.6866 - val_loss: 0.6356 - val_acc: 0.6825\n",
            "Epoch 35/100\n",
            " - 0s - loss: 3.6158 - acc: 0.6906 - val_loss: 0.6354 - val_acc: 0.6746\n",
            "Epoch 36/100\n",
            " - 0s - loss: 3.6722 - acc: 0.6866 - val_loss: 0.6367 - val_acc: 0.6825\n",
            "Epoch 37/100\n",
            " - 0s - loss: 3.5929 - acc: 0.6846 - val_loss: 0.6438 - val_acc: 0.6667\n",
            "Epoch 38/100\n",
            " - 0s - loss: 3.7082 - acc: 0.6766 - val_loss: 0.6416 - val_acc: 0.6508\n",
            "Epoch 39/100\n",
            " - 0s - loss: 3.6047 - acc: 0.6846 - val_loss: 0.6370 - val_acc: 0.6825\n",
            "Epoch 40/100\n",
            " - 0s - loss: 3.5995 - acc: 0.6866 - val_loss: 0.6411 - val_acc: 0.6825\n",
            "Epoch 41/100\n",
            " - 0s - loss: 3.6027 - acc: 0.6926 - val_loss: 0.6424 - val_acc: 0.6746\n",
            "Epoch 42/100\n",
            " - 0s - loss: 3.6332 - acc: 0.6826 - val_loss: 0.6452 - val_acc: 0.6746\n",
            "Epoch 43/100\n",
            " - 0s - loss: 3.6602 - acc: 0.6846 - val_loss: 0.6375 - val_acc: 0.6746\n",
            "Epoch 44/100\n",
            " - 0s - loss: 3.6056 - acc: 0.6906 - val_loss: 0.6366 - val_acc: 0.6825\n",
            "Epoch 45/100\n",
            " - 0s - loss: 3.6024 - acc: 0.6747 - val_loss: 0.6422 - val_acc: 0.6746\n",
            "Epoch 46/100\n",
            " - 0s - loss: 3.5933 - acc: 0.6846 - val_loss: 0.6393 - val_acc: 0.6667\n",
            "Epoch 47/100\n",
            " - 0s - loss: 3.5878 - acc: 0.6866 - val_loss: 0.6427 - val_acc: 0.6746\n",
            "Epoch 48/100\n",
            " - 0s - loss: 3.6769 - acc: 0.6707 - val_loss: 0.6746 - val_acc: 0.6746\n",
            "Epoch 49/100\n",
            " - 0s - loss: 3.7011 - acc: 0.6766 - val_loss: 0.6433 - val_acc: 0.6587\n",
            "Epoch 50/100\n",
            " - 0s - loss: 3.6738 - acc: 0.6926 - val_loss: 0.6377 - val_acc: 0.6825\n",
            "Epoch 51/100\n",
            " - 0s - loss: 3.6108 - acc: 0.6846 - val_loss: 0.6345 - val_acc: 0.6667\n",
            "Epoch 52/100\n",
            " - 0s - loss: 3.6571 - acc: 0.6866 - val_loss: 0.6431 - val_acc: 0.6587\n",
            "Epoch 53/100\n",
            " - 0s - loss: 3.6328 - acc: 0.6906 - val_loss: 0.6372 - val_acc: 0.6825\n",
            "Epoch 54/100\n",
            " - 0s - loss: 3.6292 - acc: 0.6806 - val_loss: 0.6385 - val_acc: 0.6667\n",
            "Epoch 55/100\n",
            " - 0s - loss: 3.6330 - acc: 0.6806 - val_loss: 0.6369 - val_acc: 0.6825\n",
            "Epoch 56/100\n",
            " - 0s - loss: 3.5985 - acc: 0.6866 - val_loss: 0.6378 - val_acc: 0.6746\n",
            "Epoch 57/100\n",
            " - 0s - loss: 3.5881 - acc: 0.6826 - val_loss: 0.6374 - val_acc: 0.6746\n",
            "Epoch 58/100\n",
            " - 0s - loss: 3.5782 - acc: 0.6826 - val_loss: 0.6482 - val_acc: 0.6746\n",
            "Epoch 59/100\n",
            " - 0s - loss: 3.6323 - acc: 0.6866 - val_loss: 0.6389 - val_acc: 0.6825\n",
            "Epoch 60/100\n",
            " - 0s - loss: 3.5990 - acc: 0.6886 - val_loss: 0.6507 - val_acc: 0.6190\n",
            "Epoch 61/100\n",
            " - 0s - loss: 3.6799 - acc: 0.6886 - val_loss: 0.6389 - val_acc: 0.6587\n",
            "Epoch 62/100\n",
            " - 0s - loss: 3.6241 - acc: 0.6886 - val_loss: 0.6468 - val_acc: 0.6349\n",
            "Epoch 63/100\n",
            " - 0s - loss: 3.6628 - acc: 0.6906 - val_loss: 0.6452 - val_acc: 0.6746\n",
            "Epoch 64/100\n",
            " - 0s - loss: 3.5837 - acc: 0.6866 - val_loss: 0.6353 - val_acc: 0.6825\n",
            "Epoch 65/100\n",
            " - 0s - loss: 3.6762 - acc: 0.6766 - val_loss: 0.6333 - val_acc: 0.6825\n",
            "Epoch 66/100\n",
            " - 0s - loss: 3.5972 - acc: 0.6866 - val_loss: 0.6445 - val_acc: 0.6349\n",
            "Epoch 67/100\n",
            " - 0s - loss: 3.7202 - acc: 0.6886 - val_loss: 0.6409 - val_acc: 0.6746\n",
            "Epoch 68/100\n",
            " - 0s - loss: 3.6585 - acc: 0.6886 - val_loss: 0.6435 - val_acc: 0.6746\n",
            "Epoch 69/100\n",
            " - 0s - loss: 3.6066 - acc: 0.6866 - val_loss: 0.6332 - val_acc: 0.6825\n",
            "Epoch 70/100\n",
            " - 0s - loss: 3.6107 - acc: 0.6766 - val_loss: 0.6407 - val_acc: 0.6746\n",
            "Epoch 71/100\n",
            " - 0s - loss: 3.6535 - acc: 0.6886 - val_loss: 0.6342 - val_acc: 0.6667\n",
            "Epoch 72/100\n",
            " - 0s - loss: 3.5920 - acc: 0.6866 - val_loss: 0.6352 - val_acc: 0.6667\n",
            "Epoch 73/100\n",
            " - 0s - loss: 3.6262 - acc: 0.6846 - val_loss: 0.6344 - val_acc: 0.6746\n",
            "Epoch 74/100\n",
            " - 0s - loss: 3.6037 - acc: 0.6866 - val_loss: 0.6350 - val_acc: 0.6746\n",
            "Epoch 75/100\n",
            " - 0s - loss: 3.5927 - acc: 0.6866 - val_loss: 0.6351 - val_acc: 0.6746\n",
            "Epoch 76/100\n",
            " - 0s - loss: 3.5902 - acc: 0.6846 - val_loss: 0.6364 - val_acc: 0.6746\n",
            "Epoch 77/100\n",
            " - 0s - loss: 3.5801 - acc: 0.6846 - val_loss: 0.6369 - val_acc: 0.6746\n",
            "Epoch 78/100\n",
            " - 0s - loss: 3.6210 - acc: 0.6786 - val_loss: 0.6381 - val_acc: 0.6746\n",
            "Epoch 79/100\n",
            " - 0s - loss: 3.5803 - acc: 0.6866 - val_loss: 0.6391 - val_acc: 0.6825\n",
            "Epoch 80/100\n",
            " - 0s - loss: 3.5866 - acc: 0.6866 - val_loss: 0.6375 - val_acc: 0.6825\n",
            "Epoch 81/100\n",
            " - 0s - loss: 3.6013 - acc: 0.6886 - val_loss: 0.6460 - val_acc: 0.6349\n",
            "Epoch 82/100\n",
            " - 0s - loss: 3.5881 - acc: 0.6846 - val_loss: 0.6403 - val_acc: 0.6825\n",
            "Epoch 83/100\n",
            " - 0s - loss: 3.5850 - acc: 0.6886 - val_loss: 0.6404 - val_acc: 0.6667\n",
            "Epoch 84/100\n",
            " - 0s - loss: 3.6039 - acc: 0.6886 - val_loss: 0.6389 - val_acc: 0.6587\n",
            "Epoch 85/100\n",
            " - 0s - loss: 3.5869 - acc: 0.6946 - val_loss: 0.6428 - val_acc: 0.6825\n",
            "Epoch 86/100\n",
            " - 0s - loss: 3.5688 - acc: 0.6886 - val_loss: 0.6406 - val_acc: 0.6587\n",
            "Epoch 87/100\n",
            " - 0s - loss: 3.6176 - acc: 0.6886 - val_loss: 0.6594 - val_acc: 0.6667\n",
            "Epoch 88/100\n",
            " - 0s - loss: 3.5596 - acc: 0.6846 - val_loss: 0.6436 - val_acc: 0.6508\n",
            "Epoch 89/100\n",
            " - 0s - loss: 3.5988 - acc: 0.6886 - val_loss: 0.6382 - val_acc: 0.6825\n",
            "Epoch 90/100\n",
            " - 0s - loss: 3.5826 - acc: 0.6806 - val_loss: 0.6421 - val_acc: 0.6825\n",
            "Epoch 91/100\n",
            " - 0s - loss: 3.5694 - acc: 0.6866 - val_loss: 0.6418 - val_acc: 0.6508\n",
            "Epoch 92/100\n",
            " - 0s - loss: 3.5953 - acc: 0.6886 - val_loss: 0.6427 - val_acc: 0.6508\n",
            "Epoch 93/100\n",
            " - 0s - loss: 3.5784 - acc: 0.6966 - val_loss: 0.6511 - val_acc: 0.6746\n",
            "Epoch 94/100\n",
            " - 0s - loss: 3.5778 - acc: 0.6806 - val_loss: 0.6389 - val_acc: 0.6587\n",
            "Epoch 95/100\n",
            " - 0s - loss: 3.5732 - acc: 0.6826 - val_loss: 0.6469 - val_acc: 0.6825\n",
            "Epoch 96/100\n",
            " - 0s - loss: 3.6099 - acc: 0.6866 - val_loss: 0.6432 - val_acc: 0.6825\n",
            "Epoch 97/100\n",
            " - 0s - loss: 3.5952 - acc: 0.6826 - val_loss: 0.6390 - val_acc: 0.6825\n",
            "Epoch 98/100\n",
            " - 0s - loss: 3.5798 - acc: 0.6826 - val_loss: 0.6401 - val_acc: 0.6825\n",
            "Epoch 99/100\n",
            " - 0s - loss: 3.5982 - acc: 0.6946 - val_loss: 0.6476 - val_acc: 0.6825\n",
            "Epoch 100/100\n",
            " - 0s - loss: 3.6257 - acc: 0.6906 - val_loss: 0.6437 - val_acc: 0.6905\n"
          ],
          "name": "stdout"
        }
      ]
    },
    {
      "cell_type": "code",
      "metadata": {
        "id": "f8g-15GGfOjs",
        "colab_type": "code",
        "colab": {}
      },
      "source": [
        "import numpy as np"
      ],
      "execution_count": 0,
      "outputs": []
    },
    {
      "cell_type": "code",
      "metadata": {
        "id": "_6A5mjLyfQEu",
        "colab_type": "code",
        "outputId": "3f5001dd-0ea2-4c60-9a2c-a2c8ae1f8ed5",
        "colab": {
          "base_uri": "https://localhost:8080/",
          "height": 136
        }
      },
      "source": [
        "np.argmax(model.predict_proba(df_test),axis = 1)"
      ],
      "execution_count": 31,
      "outputs": [
        {
          "output_type": "execute_result",
          "data": {
            "text/plain": [
              "array([1, 1, 1, 1, 1, 1, 1, 1, 0, 1, 0, 1, 1, 1, 1, 0, 1, 1, 1, 1, 1, 1,\n",
              "       1, 1, 1, 1, 0, 1, 1, 1, 1, 1, 1, 1, 1, 1, 1, 1, 1, 1, 1, 1, 1, 1,\n",
              "       1, 1, 0, 1, 1, 1, 1, 1, 1, 1, 0, 1, 1, 1, 1, 1, 1, 1, 1, 1, 1, 1,\n",
              "       1, 1, 1, 0, 1, 1, 1, 1, 1, 1, 1, 1, 1, 1, 1, 1, 1, 1, 1, 1, 1, 1,\n",
              "       1, 1, 1, 1, 1, 1, 1, 1, 1, 1, 1, 0, 1, 1, 1, 1, 1, 1, 1, 1, 1, 1,\n",
              "       1, 1, 1, 1, 1, 1, 1, 1, 0, 1, 1, 1, 1, 1, 1, 1, 1, 1, 1, 1, 1, 1,\n",
              "       1, 1, 1, 1, 1, 1, 1, 1, 1, 1, 1, 1, 1, 1, 1, 1, 1, 1])"
            ]
          },
          "metadata": {
            "tags": []
          },
          "execution_count": 31
        }
      ]
    },
    {
      "cell_type": "code",
      "metadata": {
        "id": "UKgt81q3fRL4",
        "colab_type": "code",
        "colab": {
          "base_uri": "https://localhost:8080/",
          "height": 231
        },
        "outputId": "e7064c30-25b2-43ee-e45f-b7601f325162"
      },
      "source": [
        "import csv\n",
        "csvfile = open('KrishnaSwaroop-LR-FV/UFV-Pred.csv', 'w', newline='')\n",
        "obj = csv.writer(csvfile)\n",
        "for i in a:\n",
        "  obj.writerow(str[i])\n",
        "csvfile.close()"
      ],
      "execution_count": 33,
      "outputs": [
        {
          "output_type": "error",
          "ename": "FileNotFoundError",
          "evalue": "ignored",
          "traceback": [
            "\u001b[0;31m---------------------------------------------------------------------------\u001b[0m",
            "\u001b[0;31mFileNotFoundError\u001b[0m                         Traceback (most recent call last)",
            "\u001b[0;32m<ipython-input-33-44302d1f43a0>\u001b[0m in \u001b[0;36m<module>\u001b[0;34m()\u001b[0m\n\u001b[1;32m      1\u001b[0m \u001b[0;32mimport\u001b[0m \u001b[0mcsv\u001b[0m\u001b[0;34m\u001b[0m\u001b[0;34m\u001b[0m\u001b[0m\n\u001b[0;32m----> 2\u001b[0;31m \u001b[0mcsvfile\u001b[0m \u001b[0;34m=\u001b[0m \u001b[0mopen\u001b[0m\u001b[0;34m(\u001b[0m\u001b[0;34m'KrishnaSwaroop-LR-FV/UFV-Pred.csv'\u001b[0m\u001b[0;34m,\u001b[0m \u001b[0;34m'w'\u001b[0m\u001b[0;34m,\u001b[0m \u001b[0mnewline\u001b[0m\u001b[0;34m=\u001b[0m\u001b[0;34m''\u001b[0m\u001b[0;34m)\u001b[0m\u001b[0;34m\u001b[0m\u001b[0;34m\u001b[0m\u001b[0m\n\u001b[0m\u001b[1;32m      3\u001b[0m \u001b[0mobj\u001b[0m \u001b[0;34m=\u001b[0m \u001b[0mcsv\u001b[0m\u001b[0;34m.\u001b[0m\u001b[0mwriter\u001b[0m\u001b[0;34m(\u001b[0m\u001b[0mcsvfile\u001b[0m\u001b[0;34m)\u001b[0m\u001b[0;34m\u001b[0m\u001b[0;34m\u001b[0m\u001b[0m\n\u001b[1;32m      4\u001b[0m \u001b[0;32mfor\u001b[0m \u001b[0mi\u001b[0m \u001b[0;32min\u001b[0m \u001b[0ma\u001b[0m\u001b[0;34m:\u001b[0m\u001b[0;34m\u001b[0m\u001b[0;34m\u001b[0m\u001b[0m\n\u001b[1;32m      5\u001b[0m   \u001b[0mobj\u001b[0m\u001b[0;34m.\u001b[0m\u001b[0mwriterow\u001b[0m\u001b[0;34m(\u001b[0m\u001b[0mstr\u001b[0m\u001b[0;34m[\u001b[0m\u001b[0mi\u001b[0m\u001b[0;34m]\u001b[0m\u001b[0;34m)\u001b[0m\u001b[0;34m\u001b[0m\u001b[0;34m\u001b[0m\u001b[0m\n",
            "\u001b[0;31mFileNotFoundError\u001b[0m: [Errno 2] No such file or directory: 'KrishnaSwaroop-LR-FV/UFV-Pred.csv'"
          ]
        }
      ]
    },
    {
      "cell_type": "code",
      "metadata": {
        "id": "RhZzSPpGnvav",
        "colab_type": "code",
        "colab": {}
      },
      "source": [
        ""
      ],
      "execution_count": 0,
      "outputs": []
    }
  ]
}
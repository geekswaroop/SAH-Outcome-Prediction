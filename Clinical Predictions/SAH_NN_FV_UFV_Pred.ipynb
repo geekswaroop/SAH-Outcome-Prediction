{
  "nbformat": 4,
  "nbformat_minor": 0,
  "metadata": {
    "colab": {
      "name": "SAH-NN_FV/UFV-Pred.ipynb",
      "provenance": [],
      "collapsed_sections": []
    },
    "kernelspec": {
      "name": "python3",
      "display_name": "Python 3"
    }
  },
  "cells": [
    {
      "cell_type": "code",
      "metadata": {
        "id": "arfBbk-8XHIV",
        "colab_type": "code",
        "colab": {}
      },
      "source": [
        "import pandas as pd\n",
        "from keras.models import Sequential\n",
        "from keras.layers import Dense\n",
        "from keras.wrappers.scikit_learn import KerasClassifier\n",
        "from keras.utils import np_utils\n",
        "from sklearn.model_selection import cross_val_score\n",
        "from sklearn.model_selection import KFold\n",
        "from sklearn.preprocessing import LabelEncoder\n",
        "from sklearn.pipeline import Pipeline"
      ],
      "execution_count": 0,
      "outputs": []
    },
    {
      "cell_type": "code",
      "metadata": {
        "id": "TeobX_NQXOKS",
        "colab_type": "code",
        "outputId": "c5ae9925-36d1-4c96-ef79-66d2928b41a7",
        "colab": {
          "base_uri": "https://localhost:8080/",
          "height": 119
        }
      },
      "source": [
        "df = pd.read_csv('manipal_sah_tr.csv')\n",
        "df_test = pd.read_csv('manipal_sah_test.csv')\n",
        "df.drop(['Radiological Vasospas1', 'Clinical ischemic de0icits', 'Outcome at Discharge'], inplace = True,  axis = 1) \n",
        "df_test.drop(['Radiological Vasospas1', 'Clinical ischemic de0icits', 'Outcome at Discharge'], inplace = True,  axis = 1) \n",
        "\n",
        "print(df.head())"
      ],
      "execution_count": 4,
      "outputs": [
        {
          "output_type": "stream",
          "text": [
            "   Age  Sex  Hypertension  Daibetes  WFNS grade  Outcome at 3 months\n",
            "0   56    1             0         1           1                    1\n",
            "1   54    1             0         1           1                    5\n",
            "2   66    1             0         1           2                    5\n",
            "3   46    1             0         0           1                    5\n",
            "4   67    0             1         1           2                    5\n"
          ],
          "name": "stdout"
        }
      ]
    },
    {
      "cell_type": "code",
      "metadata": {
        "id": "vvtFjf4rXVvD",
        "colab_type": "code",
        "outputId": "4b806be5-97d3-429a-fa1a-19162eae8d57",
        "colab": {
          "base_uri": "https://localhost:8080/",
          "height": 187
        }
      },
      "source": [
        "X = df.loc[:, 'Age':'WFNS grade']\n",
        "Y = df.loc[:,'Outcome at 3 months']\n",
        "#Y = Y.to_frame()\n",
        "X.info()\n",
        "#Y.info()"
      ],
      "execution_count": 5,
      "outputs": [
        {
          "output_type": "stream",
          "text": [
            "<class 'pandas.core.frame.DataFrame'>\n",
            "RangeIndex: 627 entries, 0 to 626\n",
            "Data columns (total 5 columns):\n",
            "Age             627 non-null int64\n",
            "Sex             627 non-null int64\n",
            "Hypertension    627 non-null int64\n",
            "Daibetes        627 non-null int64\n",
            "WFNS grade      627 non-null int64\n",
            "dtypes: int64(5)\n",
            "memory usage: 24.6 KB\n"
          ],
          "name": "stdout"
        }
      ]
    },
    {
      "cell_type": "code",
      "metadata": {
        "id": "xVknhe7_ZC6S",
        "colab_type": "code",
        "colab": {}
      },
      "source": [
        ""
      ],
      "execution_count": 0,
      "outputs": []
    },
    {
      "cell_type": "code",
      "metadata": {
        "id": "Ubx5YnjpZrlA",
        "colab_type": "code",
        "colab": {}
      },
      "source": [
        "#Y[0]"
      ],
      "execution_count": 0,
      "outputs": []
    },
    {
      "cell_type": "markdown",
      "metadata": {
        "id": "8bvhdsiXXkvw",
        "colab_type": "text"
      },
      "source": [
        "Changing 'Outcome after 3 months column'"
      ]
    },
    {
      "cell_type": "code",
      "metadata": {
        "id": "Cv4kWs04XhQo",
        "colab_type": "code",
        "colab": {}
      },
      "source": [
        "for i in range(len(Y)):\n",
        "  if Y[i]>=4:\n",
        "    Y[i] = 1\n",
        "  else:\n",
        "    Y[i] = 0\n"
      ],
      "execution_count": 0,
      "outputs": []
    },
    {
      "cell_type": "code",
      "metadata": {
        "id": "D5jboMuTX51c",
        "colab_type": "code",
        "outputId": "4a979940-b993-4690-bc66-f08f64b662cb",
        "colab": {
          "base_uri": "https://localhost:8080/",
          "height": 221
        }
      },
      "source": [
        "print(Y)"
      ],
      "execution_count": 8,
      "outputs": [
        {
          "output_type": "stream",
          "text": [
            "0      0\n",
            "1      1\n",
            "2      1\n",
            "3      1\n",
            "4      1\n",
            "      ..\n",
            "622    1\n",
            "623    0\n",
            "624    0\n",
            "625    1\n",
            "626    1\n",
            "Name: Outcome at 3 months, Length: 627, dtype: int64\n"
          ],
          "name": "stdout"
        }
      ]
    },
    {
      "cell_type": "code",
      "metadata": {
        "id": "sUUZyE4NaDQg",
        "colab_type": "code",
        "colab": {}
      },
      "source": [
        "Y = Y.to_frame()"
      ],
      "execution_count": 0,
      "outputs": []
    },
    {
      "cell_type": "code",
      "metadata": {
        "id": "Jm4RKLvxaH3w",
        "colab_type": "code",
        "colab": {}
      },
      "source": [
        "from sklearn.model_selection import train_test_split\n",
        "X_train, X_test, y_train, y_test = train_test_split(X,Y,test_size=0.2, random_state=42, stratify=Y)"
      ],
      "execution_count": 0,
      "outputs": []
    },
    {
      "cell_type": "code",
      "metadata": {
        "id": "KpzcEbj2aNLL",
        "colab_type": "code",
        "outputId": "f003b6c9-806e-4f3b-845e-3f36d9799400",
        "colab": {
          "base_uri": "https://localhost:8080/",
          "height": 411
        }
      },
      "source": [
        "num_classes=2\n",
        "model = Sequential()\n",
        "model.add(Dense(128, activation='relu', input_dim = 5))\n",
        "model.add(Dense(128, activation='relu'))\n",
        "model.add(Dense(128, activation='relu'))\n",
        "model.add(Dense(num_classes, activation='softmax'))\n",
        "\n",
        "model.summary()"
      ],
      "execution_count": 11,
      "outputs": [
        {
          "output_type": "stream",
          "text": [
            "WARNING:tensorflow:From /usr/local/lib/python3.6/dist-packages/keras/backend/tensorflow_backend.py:66: The name tf.get_default_graph is deprecated. Please use tf.compat.v1.get_default_graph instead.\n",
            "\n",
            "WARNING:tensorflow:From /usr/local/lib/python3.6/dist-packages/keras/backend/tensorflow_backend.py:541: The name tf.placeholder is deprecated. Please use tf.compat.v1.placeholder instead.\n",
            "\n",
            "WARNING:tensorflow:From /usr/local/lib/python3.6/dist-packages/keras/backend/tensorflow_backend.py:4432: The name tf.random_uniform is deprecated. Please use tf.random.uniform instead.\n",
            "\n",
            "Model: \"sequential_1\"\n",
            "_________________________________________________________________\n",
            "Layer (type)                 Output Shape              Param #   \n",
            "=================================================================\n",
            "dense_1 (Dense)              (None, 128)               768       \n",
            "_________________________________________________________________\n",
            "dense_2 (Dense)              (None, 128)               16512     \n",
            "_________________________________________________________________\n",
            "dense_3 (Dense)              (None, 128)               16512     \n",
            "_________________________________________________________________\n",
            "dense_4 (Dense)              (None, 2)                 258       \n",
            "=================================================================\n",
            "Total params: 34,050\n",
            "Trainable params: 34,050\n",
            "Non-trainable params: 0\n",
            "_________________________________________________________________\n"
          ],
          "name": "stdout"
        }
      ]
    },
    {
      "cell_type": "code",
      "metadata": {
        "id": "ufZ8_BmPaOyV",
        "colab_type": "code",
        "outputId": "fdfef84e-bee7-4910-a074-4d588976ad6d",
        "colab": {
          "base_uri": "https://localhost:8080/",
          "height": 105
        }
      },
      "source": [
        "model.compile(loss='sparse_categorical_crossentropy',\n",
        "              optimizer='adam',\n",
        "              metrics=['accuracy'])\n",
        "class_weight = {0: 6.,\n",
        "                1: 6.,\n",
        "                2: 3.,\n",
        "                3: 3.,\n",
        "                4: 1.}"
      ],
      "execution_count": 12,
      "outputs": [
        {
          "output_type": "stream",
          "text": [
            "WARNING:tensorflow:From /usr/local/lib/python3.6/dist-packages/keras/optimizers.py:793: The name tf.train.Optimizer is deprecated. Please use tf.compat.v1.train.Optimizer instead.\n",
            "\n",
            "WARNING:tensorflow:From /usr/local/lib/python3.6/dist-packages/keras/backend/tensorflow_backend.py:3622: The name tf.log is deprecated. Please use tf.math.log instead.\n",
            "\n"
          ],
          "name": "stdout"
        }
      ]
    },
    {
      "cell_type": "code",
      "metadata": {
        "id": "t_F3Nf33aT1o",
        "colab_type": "code",
        "outputId": "138d32cf-ed68-4689-ae6e-2be0d9abd5ed",
        "colab": {
          "base_uri": "https://localhost:8080/",
          "height": 1000
        }
      },
      "source": [
        "batch_size = 32\n",
        "num_classes = 2\n",
        "epochs = 100\n",
        "history = model.fit(X_train, y_train,\n",
        "                    batch_size=batch_size,\n",
        "                    epochs=epochs,\n",
        "                    verbose=2,\n",
        "                    validation_data=(X_test, y_test),class_weight=class_weight)"
      ],
      "execution_count": 13,
      "outputs": [
        {
          "output_type": "stream",
          "text": [
            "WARNING:tensorflow:From /usr/local/lib/python3.6/dist-packages/tensorflow_core/python/ops/math_grad.py:1424: where (from tensorflow.python.ops.array_ops) is deprecated and will be removed in a future version.\n",
            "Instructions for updating:\n",
            "Use tf.where in 2.0, which has the same broadcast rule as np.where\n",
            "WARNING:tensorflow:From /usr/local/lib/python3.6/dist-packages/keras/backend/tensorflow_backend.py:1033: The name tf.assign_add is deprecated. Please use tf.compat.v1.assign_add instead.\n",
            "\n",
            "WARNING:tensorflow:From /usr/local/lib/python3.6/dist-packages/keras/backend/tensorflow_backend.py:1020: The name tf.assign is deprecated. Please use tf.compat.v1.assign instead.\n",
            "\n",
            "WARNING:tensorflow:From /usr/local/lib/python3.6/dist-packages/keras/backend/tensorflow_backend.py:3005: The name tf.Session is deprecated. Please use tf.compat.v1.Session instead.\n",
            "\n",
            "Train on 501 samples, validate on 126 samples\n",
            "Epoch 1/100\n",
            "WARNING:tensorflow:From /usr/local/lib/python3.6/dist-packages/keras/backend/tensorflow_backend.py:190: The name tf.get_default_session is deprecated. Please use tf.compat.v1.get_default_session instead.\n",
            "\n",
            "WARNING:tensorflow:From /usr/local/lib/python3.6/dist-packages/keras/backend/tensorflow_backend.py:197: The name tf.ConfigProto is deprecated. Please use tf.compat.v1.ConfigProto instead.\n",
            "\n",
            "WARNING:tensorflow:From /usr/local/lib/python3.6/dist-packages/keras/backend/tensorflow_backend.py:207: The name tf.global_variables is deprecated. Please use tf.compat.v1.global_variables instead.\n",
            "\n",
            "WARNING:tensorflow:From /usr/local/lib/python3.6/dist-packages/keras/backend/tensorflow_backend.py:216: The name tf.is_variable_initialized is deprecated. Please use tf.compat.v1.is_variable_initialized instead.\n",
            "\n",
            "WARNING:tensorflow:From /usr/local/lib/python3.6/dist-packages/keras/backend/tensorflow_backend.py:223: The name tf.variables_initializer is deprecated. Please use tf.compat.v1.variables_initializer instead.\n",
            "\n",
            " - 1s - loss: 5.8787 - acc: 0.6008 - val_loss: 0.6623 - val_acc: 0.6825\n",
            "Epoch 2/100\n",
            " - 0s - loss: 4.7846 - acc: 0.5150 - val_loss: 0.6777 - val_acc: 0.6825\n",
            "Epoch 3/100\n",
            " - 0s - loss: 4.0343 - acc: 0.6826 - val_loss: 0.6407 - val_acc: 0.6825\n",
            "Epoch 4/100\n",
            " - 0s - loss: 3.7073 - acc: 0.6826 - val_loss: 0.6299 - val_acc: 0.6825\n",
            "Epoch 5/100\n",
            " - 0s - loss: 3.6844 - acc: 0.6826 - val_loss: 0.6271 - val_acc: 0.6825\n",
            "Epoch 6/100\n",
            " - 0s - loss: 3.7431 - acc: 0.6826 - val_loss: 0.6439 - val_acc: 0.6825\n",
            "Epoch 7/100\n",
            " - 0s - loss: 4.0080 - acc: 0.6826 - val_loss: 0.6628 - val_acc: 0.6825\n",
            "Epoch 8/100\n",
            " - 0s - loss: 4.4918 - acc: 0.5369 - val_loss: 0.8395 - val_acc: 0.6825\n",
            "Epoch 9/100\n",
            " - 0s - loss: 4.3630 - acc: 0.6347 - val_loss: 0.6302 - val_acc: 0.6825\n",
            "Epoch 10/100\n",
            " - 0s - loss: 3.7114 - acc: 0.6766 - val_loss: 0.6302 - val_acc: 0.6825\n",
            "Epoch 11/100\n",
            " - 0s - loss: 3.7091 - acc: 0.6826 - val_loss: 0.6405 - val_acc: 0.6825\n",
            "Epoch 12/100\n",
            " - 0s - loss: 3.7378 - acc: 0.6806 - val_loss: 0.6294 - val_acc: 0.6825\n",
            "Epoch 13/100\n",
            " - 0s - loss: 3.7222 - acc: 0.6886 - val_loss: 0.6890 - val_acc: 0.5317\n",
            "Epoch 14/100\n",
            " - 0s - loss: 3.8202 - acc: 0.6527 - val_loss: 0.6363 - val_acc: 0.6825\n",
            "Epoch 15/100\n",
            " - 0s - loss: 3.6986 - acc: 0.6846 - val_loss: 0.6597 - val_acc: 0.6270\n",
            "Epoch 16/100\n",
            " - 0s - loss: 3.6658 - acc: 0.6806 - val_loss: 0.6521 - val_acc: 0.6825\n",
            "Epoch 17/100\n",
            " - 0s - loss: 3.6384 - acc: 0.6826 - val_loss: 0.6999 - val_acc: 0.5000\n",
            "Epoch 18/100\n",
            " - 0s - loss: 3.6613 - acc: 0.6766 - val_loss: 0.6441 - val_acc: 0.6746\n",
            "Epoch 19/100\n",
            " - 0s - loss: 3.6210 - acc: 0.6826 - val_loss: 0.6485 - val_acc: 0.6746\n",
            "Epoch 20/100\n",
            " - 0s - loss: 3.8444 - acc: 0.6487 - val_loss: 0.6326 - val_acc: 0.6746\n",
            "Epoch 21/100\n",
            " - 0s - loss: 3.6363 - acc: 0.6786 - val_loss: 0.6585 - val_acc: 0.6746\n",
            "Epoch 22/100\n",
            " - 0s - loss: 3.7963 - acc: 0.6906 - val_loss: 0.6437 - val_acc: 0.6746\n",
            "Epoch 23/100\n",
            " - 0s - loss: 3.7667 - acc: 0.6747 - val_loss: 0.6364 - val_acc: 0.6825\n",
            "Epoch 24/100\n",
            " - 0s - loss: 3.7853 - acc: 0.6846 - val_loss: 0.6338 - val_acc: 0.6825\n",
            "Epoch 25/100\n",
            " - 0s - loss: 4.0516 - acc: 0.6228 - val_loss: 0.6343 - val_acc: 0.6825\n",
            "Epoch 26/100\n",
            " - 0s - loss: 3.6319 - acc: 0.6866 - val_loss: 0.6340 - val_acc: 0.6825\n",
            "Epoch 27/100\n",
            " - 0s - loss: 3.6345 - acc: 0.6826 - val_loss: 0.6358 - val_acc: 0.6746\n",
            "Epoch 28/100\n",
            " - 0s - loss: 3.7336 - acc: 0.6866 - val_loss: 0.6607 - val_acc: 0.6111\n",
            "Epoch 29/100\n",
            " - 0s - loss: 3.8875 - acc: 0.6687 - val_loss: 0.6558 - val_acc: 0.6190\n",
            "Epoch 30/100\n",
            " - 0s - loss: 3.9544 - acc: 0.6667 - val_loss: 0.6560 - val_acc: 0.6825\n",
            "Epoch 31/100\n",
            " - 0s - loss: 3.6686 - acc: 0.6906 - val_loss: 0.6399 - val_acc: 0.6825\n",
            "Epoch 32/100\n",
            " - 0s - loss: 3.5951 - acc: 0.6826 - val_loss: 0.6405 - val_acc: 0.6825\n",
            "Epoch 33/100\n",
            " - 0s - loss: 3.6804 - acc: 0.6747 - val_loss: 0.6347 - val_acc: 0.6746\n",
            "Epoch 34/100\n",
            " - 0s - loss: 3.5863 - acc: 0.6826 - val_loss: 0.6581 - val_acc: 0.6825\n",
            "Epoch 35/100\n",
            " - 0s - loss: 3.6518 - acc: 0.6766 - val_loss: 0.6358 - val_acc: 0.6667\n",
            "Epoch 36/100\n",
            " - 0s - loss: 3.5880 - acc: 0.6866 - val_loss: 0.6409 - val_acc: 0.6746\n",
            "Epoch 37/100\n",
            " - 0s - loss: 3.6593 - acc: 0.6806 - val_loss: 0.6723 - val_acc: 0.6825\n",
            "Epoch 38/100\n",
            " - 0s - loss: 3.6364 - acc: 0.6886 - val_loss: 0.6348 - val_acc: 0.6746\n",
            "Epoch 39/100\n",
            " - 0s - loss: 3.7300 - acc: 0.6986 - val_loss: 0.6307 - val_acc: 0.6746\n",
            "Epoch 40/100\n",
            " - 0s - loss: 3.6551 - acc: 0.6826 - val_loss: 0.6322 - val_acc: 0.6667\n",
            "Epoch 41/100\n",
            " - 0s - loss: 3.6099 - acc: 0.6906 - val_loss: 0.6324 - val_acc: 0.6746\n",
            "Epoch 42/100\n",
            " - 0s - loss: 3.6594 - acc: 0.6866 - val_loss: 0.6404 - val_acc: 0.6746\n",
            "Epoch 43/100\n",
            " - 0s - loss: 3.6946 - acc: 0.6886 - val_loss: 0.6319 - val_acc: 0.6746\n",
            "Epoch 44/100\n",
            " - 0s - loss: 3.6161 - acc: 0.6826 - val_loss: 0.6336 - val_acc: 0.6667\n",
            "Epoch 45/100\n",
            " - 0s - loss: 3.5986 - acc: 0.6866 - val_loss: 0.6356 - val_acc: 0.6825\n",
            "Epoch 46/100\n",
            " - 0s - loss: 3.6451 - acc: 0.6866 - val_loss: 0.6346 - val_acc: 0.6746\n",
            "Epoch 47/100\n",
            " - 0s - loss: 3.5986 - acc: 0.6826 - val_loss: 0.6373 - val_acc: 0.6746\n",
            "Epoch 48/100\n",
            " - 0s - loss: 3.6022 - acc: 0.6906 - val_loss: 0.6412 - val_acc: 0.6667\n",
            "Epoch 49/100\n",
            " - 0s - loss: 3.6162 - acc: 0.6946 - val_loss: 0.6364 - val_acc: 0.6746\n",
            "Epoch 50/100\n",
            " - 0s - loss: 3.6726 - acc: 0.6966 - val_loss: 0.6641 - val_acc: 0.6825\n",
            "Epoch 51/100\n",
            " - 0s - loss: 3.6813 - acc: 0.6786 - val_loss: 0.6491 - val_acc: 0.6825\n",
            "Epoch 52/100\n",
            " - 0s - loss: 3.6725 - acc: 0.6786 - val_loss: 0.6343 - val_acc: 0.6667\n",
            "Epoch 53/100\n",
            " - 0s - loss: 3.6103 - acc: 0.6886 - val_loss: 0.6357 - val_acc: 0.6667\n",
            "Epoch 54/100\n",
            " - 0s - loss: 3.6077 - acc: 0.6886 - val_loss: 0.6344 - val_acc: 0.6825\n",
            "Epoch 55/100\n",
            " - 0s - loss: 3.5958 - acc: 0.6866 - val_loss: 0.6412 - val_acc: 0.6667\n",
            "Epoch 56/100\n",
            " - 0s - loss: 3.5927 - acc: 0.6866 - val_loss: 0.6358 - val_acc: 0.6746\n",
            "Epoch 57/100\n",
            " - 0s - loss: 3.5898 - acc: 0.6846 - val_loss: 0.6410 - val_acc: 0.6667\n",
            "Epoch 58/100\n",
            " - 0s - loss: 3.5769 - acc: 0.6806 - val_loss: 0.6381 - val_acc: 0.6746\n",
            "Epoch 59/100\n",
            " - 0s - loss: 3.5953 - acc: 0.6846 - val_loss: 0.6520 - val_acc: 0.6270\n",
            "Epoch 60/100\n",
            " - 0s - loss: 3.6154 - acc: 0.6906 - val_loss: 0.6375 - val_acc: 0.6746\n",
            "Epoch 61/100\n",
            " - 0s - loss: 3.6800 - acc: 0.6806 - val_loss: 0.6455 - val_acc: 0.6429\n",
            "Epoch 62/100\n",
            " - 0s - loss: 3.6088 - acc: 0.6906 - val_loss: 0.6631 - val_acc: 0.6746\n",
            "Epoch 63/100\n",
            " - 0s - loss: 3.5917 - acc: 0.6846 - val_loss: 0.6378 - val_acc: 0.6746\n",
            "Epoch 64/100\n",
            " - 0s - loss: 3.5824 - acc: 0.6866 - val_loss: 0.6495 - val_acc: 0.6667\n",
            "Epoch 65/100\n",
            " - 0s - loss: 3.5833 - acc: 0.6846 - val_loss: 0.6399 - val_acc: 0.6746\n",
            "Epoch 66/100\n",
            " - 0s - loss: 3.5856 - acc: 0.6846 - val_loss: 0.6403 - val_acc: 0.6746\n",
            "Epoch 67/100\n",
            " - 0s - loss: 3.5743 - acc: 0.6806 - val_loss: 0.6566 - val_acc: 0.6032\n",
            "Epoch 68/100\n",
            " - 0s - loss: 3.5883 - acc: 0.6946 - val_loss: 0.6382 - val_acc: 0.6746\n",
            "Epoch 69/100\n",
            " - 0s - loss: 3.5876 - acc: 0.6806 - val_loss: 0.6383 - val_acc: 0.6746\n",
            "Epoch 70/100\n",
            " - 0s - loss: 3.5922 - acc: 0.6766 - val_loss: 0.6390 - val_acc: 0.6905\n",
            "Epoch 71/100\n",
            " - 0s - loss: 3.5807 - acc: 0.6786 - val_loss: 0.6393 - val_acc: 0.6746\n",
            "Epoch 72/100\n",
            " - 0s - loss: 3.5859 - acc: 0.6866 - val_loss: 0.6398 - val_acc: 0.6825\n",
            "Epoch 73/100\n",
            " - 0s - loss: 3.5926 - acc: 0.6826 - val_loss: 0.6458 - val_acc: 0.6746\n",
            "Epoch 74/100\n",
            " - 0s - loss: 3.6113 - acc: 0.6946 - val_loss: 0.6463 - val_acc: 0.6746\n",
            "Epoch 75/100\n",
            " - 0s - loss: 3.6680 - acc: 0.6866 - val_loss: 0.6425 - val_acc: 0.6587\n",
            "Epoch 76/100\n",
            " - 0s - loss: 3.6340 - acc: 0.6846 - val_loss: 0.6347 - val_acc: 0.6825\n",
            "Epoch 77/100\n",
            " - 0s - loss: 3.6356 - acc: 0.6926 - val_loss: 0.6361 - val_acc: 0.6746\n",
            "Epoch 78/100\n",
            " - 0s - loss: 3.6058 - acc: 0.6786 - val_loss: 0.6341 - val_acc: 0.6746\n",
            "Epoch 79/100\n",
            " - 0s - loss: 3.6156 - acc: 0.6786 - val_loss: 0.6381 - val_acc: 0.6746\n",
            "Epoch 80/100\n",
            " - 0s - loss: 3.6506 - acc: 0.6866 - val_loss: 0.6356 - val_acc: 0.6825\n",
            "Epoch 81/100\n",
            " - 0s - loss: 3.6402 - acc: 0.6866 - val_loss: 0.6359 - val_acc: 0.6746\n",
            "Epoch 82/100\n",
            " - 0s - loss: 3.5954 - acc: 0.6806 - val_loss: 0.6392 - val_acc: 0.6746\n",
            "Epoch 83/100\n",
            " - 0s - loss: 3.5860 - acc: 0.6826 - val_loss: 0.6375 - val_acc: 0.6984\n",
            "Epoch 84/100\n",
            " - 0s - loss: 3.6501 - acc: 0.6846 - val_loss: 0.6383 - val_acc: 0.6667\n",
            "Epoch 85/100\n",
            " - 0s - loss: 3.6101 - acc: 0.6926 - val_loss: 0.6418 - val_acc: 0.6746\n",
            "Epoch 86/100\n",
            " - 0s - loss: 3.5899 - acc: 0.6866 - val_loss: 0.6372 - val_acc: 0.6905\n",
            "Epoch 87/100\n",
            " - 0s - loss: 3.5925 - acc: 0.6866 - val_loss: 0.6414 - val_acc: 0.6508\n",
            "Epoch 88/100\n",
            " - 0s - loss: 3.6023 - acc: 0.6766 - val_loss: 0.6396 - val_acc: 0.6746\n",
            "Epoch 89/100\n",
            " - 0s - loss: 3.5874 - acc: 0.6846 - val_loss: 0.6402 - val_acc: 0.6825\n",
            "Epoch 90/100\n",
            " - 0s - loss: 3.5737 - acc: 0.6866 - val_loss: 0.6426 - val_acc: 0.6825\n",
            "Epoch 91/100\n",
            " - 0s - loss: 3.5985 - acc: 0.6766 - val_loss: 0.6392 - val_acc: 0.6587\n",
            "Epoch 92/100\n",
            " - 0s - loss: 3.5985 - acc: 0.6826 - val_loss: 0.6546 - val_acc: 0.6270\n",
            "Epoch 93/100\n",
            " - 0s - loss: 3.6091 - acc: 0.6906 - val_loss: 0.6369 - val_acc: 0.6825\n",
            "Epoch 94/100\n",
            " - 0s - loss: 3.5806 - acc: 0.6826 - val_loss: 0.6381 - val_acc: 0.6905\n",
            "Epoch 95/100\n",
            " - 0s - loss: 3.6323 - acc: 0.6866 - val_loss: 0.6425 - val_acc: 0.6508\n",
            "Epoch 96/100\n",
            " - 0s - loss: 3.5883 - acc: 0.6906 - val_loss: 0.6416 - val_acc: 0.6746\n",
            "Epoch 97/100\n",
            " - 0s - loss: 3.5545 - acc: 0.6886 - val_loss: 0.6515 - val_acc: 0.6270\n",
            "Epoch 98/100\n",
            " - 0s - loss: 3.6541 - acc: 0.6846 - val_loss: 0.6426 - val_acc: 0.6746\n",
            "Epoch 99/100\n",
            " - 0s - loss: 3.6081 - acc: 0.6786 - val_loss: 0.6372 - val_acc: 0.6825\n",
            "Epoch 100/100\n",
            " - 0s - loss: 3.5778 - acc: 0.6786 - val_loss: 0.6382 - val_acc: 0.6825\n"
          ],
          "name": "stdout"
        }
      ]
    },
    {
      "cell_type": "markdown",
      "metadata": {
        "id": "ZbcEma6bfp_P",
        "colab_type": "text"
      },
      "source": [
        ""
      ]
    },
    {
      "cell_type": "code",
      "metadata": {
        "id": "kJ1AhCr2aWbq",
        "colab_type": "code",
        "colab": {}
      },
      "source": [
        "import numpy as np"
      ],
      "execution_count": 0,
      "outputs": []
    },
    {
      "cell_type": "code",
      "metadata": {
        "id": "PvkhK-Gpar4r",
        "colab_type": "code",
        "outputId": "b40a4950-edc4-490b-a27e-cd25422f63e7",
        "colab": {
          "base_uri": "https://localhost:8080/",
          "height": 136
        }
      },
      "source": [
        "np.argmax(model.predict_proba(df_test),axis = 1)\n"
      ],
      "execution_count": 15,
      "outputs": [
        {
          "output_type": "execute_result",
          "data": {
            "text/plain": [
              "array([1, 1, 1, 1, 1, 1, 1, 1, 0, 1, 0, 1, 1, 1, 1, 0, 1, 1, 1, 1, 1, 1,\n",
              "       1, 1, 1, 1, 0, 1, 1, 1, 1, 0, 1, 1, 1, 1, 1, 1, 1, 1, 1, 1, 1, 1,\n",
              "       1, 1, 0, 1, 1, 1, 1, 1, 1, 1, 1, 1, 1, 1, 1, 1, 1, 1, 1, 1, 1, 1,\n",
              "       1, 1, 1, 0, 1, 1, 1, 1, 1, 1, 1, 1, 1, 1, 1, 1, 1, 1, 1, 1, 1, 1,\n",
              "       1, 1, 1, 1, 1, 1, 1, 1, 1, 1, 1, 0, 1, 1, 1, 1, 1, 1, 1, 1, 1, 1,\n",
              "       1, 1, 1, 1, 1, 1, 1, 1, 0, 1, 1, 1, 1, 1, 1, 1, 1, 1, 1, 1, 1, 1,\n",
              "       1, 1, 1, 1, 1, 1, 1, 1, 1, 1, 1, 1, 1, 1, 1, 1, 1, 1])"
            ]
          },
          "metadata": {
            "tags": []
          },
          "execution_count": 15
        }
      ]
    },
    {
      "cell_type": "code",
      "metadata": {
        "id": "J8HLsAWDatJS",
        "colab_type": "code",
        "colab": {
          "base_uri": "https://localhost:8080/",
          "height": 163
        },
        "outputId": "cee42bdb-678e-427e-be37-b2b2a5bc6a72"
      },
      "source": [
        "prediction = pd.DataFrame(predictions, columns=['predictions']).to_csv('prediction.csv')\n"
      ],
      "execution_count": 16,
      "outputs": [
        {
          "output_type": "error",
          "ename": "NameError",
          "evalue": "ignored",
          "traceback": [
            "\u001b[0;31m---------------------------------------------------------------------------\u001b[0m",
            "\u001b[0;31mNameError\u001b[0m                                 Traceback (most recent call last)",
            "\u001b[0;32m<ipython-input-16-087ea7277a4e>\u001b[0m in \u001b[0;36m<module>\u001b[0;34m()\u001b[0m\n\u001b[0;32m----> 1\u001b[0;31m \u001b[0mprediction\u001b[0m \u001b[0;34m=\u001b[0m \u001b[0mpd\u001b[0m\u001b[0;34m.\u001b[0m\u001b[0mDataFrame\u001b[0m\u001b[0;34m(\u001b[0m\u001b[0mpredictions\u001b[0m\u001b[0;34m,\u001b[0m \u001b[0mcolumns\u001b[0m\u001b[0;34m=\u001b[0m\u001b[0;34m[\u001b[0m\u001b[0;34m'predictions'\u001b[0m\u001b[0;34m]\u001b[0m\u001b[0;34m)\u001b[0m\u001b[0;34m.\u001b[0m\u001b[0mto_csv\u001b[0m\u001b[0;34m(\u001b[0m\u001b[0;34m'prediction.csv'\u001b[0m\u001b[0;34m)\u001b[0m\u001b[0;34m\u001b[0m\u001b[0;34m\u001b[0m\u001b[0m\n\u001b[0m",
            "\u001b[0;31mNameError\u001b[0m: name 'predictions' is not defined"
          ]
        }
      ]
    }
  ]
}
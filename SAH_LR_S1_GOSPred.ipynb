{
  "nbformat": 4,
  "nbformat_minor": 0,
  "metadata": {
    "colab": {
      "name": "SAH-LR-S1-GOSPred.ipynb",
      "provenance": []
    },
    "kernelspec": {
      "name": "python3",
      "display_name": "Python 3"
    }
  },
  "cells": [
    {
      "cell_type": "code",
      "metadata": {
        "id": "LtI1JJD6x3hf",
        "colab_type": "code",
        "colab": {}
      },
      "source": [
        "import os\n",
        "import pandas as pd\n",
        "import numpy as np\n",
        "import matplotlib.pyplot as plt"
      ],
      "execution_count": 0,
      "outputs": []
    },
    {
      "cell_type": "code",
      "metadata": {
        "id": "_PwHyTT7yIvS",
        "colab_type": "code",
        "colab": {
          "base_uri": "https://localhost:8080/",
          "height": 255
        },
        "outputId": "dda0cf9f-fc89-4c0c-cd6c-d4618c10fec1"
      },
      "source": [
        "df = pd.read_csv('manipal_sah_tr.csv')\n",
        "df_test = pd.read_csv('manipal_sah_test.csv')\n",
        "df.info()"
      ],
      "execution_count": 46,
      "outputs": [
        {
          "output_type": "stream",
          "text": [
            "<class 'pandas.core.frame.DataFrame'>\n",
            "RangeIndex: 627 entries, 0 to 626\n",
            "Data columns (total 9 columns):\n",
            "Age                           627 non-null int64\n",
            "Sex                           627 non-null int64\n",
            "Hypertension                  627 non-null int64\n",
            "Daibetes                      627 non-null int64\n",
            "WFNS grade                    627 non-null int64\n",
            "Radiological Vasospas1        627 non-null int64\n",
            "Clinical ischemic de0icits    627 non-null int64\n",
            "Outcome at Discharge          627 non-null int64\n",
            "Outcome at 3 months           627 non-null int64\n",
            "dtypes: int64(9)\n",
            "memory usage: 44.2 KB\n"
          ],
          "name": "stdout"
        }
      ]
    },
    {
      "cell_type": "code",
      "metadata": {
        "id": "jJLlqCtDyKJ2",
        "colab_type": "code",
        "colab": {
          "base_uri": "https://localhost:8080/",
          "height": 459
        },
        "outputId": "45f5e765-a58a-40d2-f00b-21fcb0227f1e"
      },
      "source": [
        "print(df.head())\n",
        "#print(df_test.head())\n",
        "df.drop(['Radiological Vasospas1', 'Clinical ischemic de0icits', 'Outcome at Discharge'], inplace = True,  axis = 1) \n",
        "#df.drop(df.iloc[:, 5:8], inplace = True, axis = 1) \n",
        "\n",
        "#df_test.drop(['Radiological Vasospas1', 'Clinical ischemic de0icits', 'Outcome at Discharge'], axis = 1) \n",
        "print(df.head())\n",
        "#df_test = df_test.loc[:, 'Age':'WFNS grade']\n",
        "#print(df_test.head())\n",
        "print(df.info())"
      ],
      "execution_count": 47,
      "outputs": [
        {
          "output_type": "stream",
          "text": [
            "   Age  Sex  ...  Outcome at Discharge  Outcome at 3 months\n",
            "0   56    1  ...                     3                    1\n",
            "1   54    1  ...                     5                    5\n",
            "2   66    1  ...                     5                    5\n",
            "3   46    1  ...                     5                    5\n",
            "4   67    0  ...                     5                    5\n",
            "\n",
            "[5 rows x 9 columns]\n",
            "   Age  Sex  Hypertension  Daibetes  WFNS grade  Outcome at 3 months\n",
            "0   56    1             0         1           1                    1\n",
            "1   54    1             0         1           1                    5\n",
            "2   66    1             0         1           2                    5\n",
            "3   46    1             0         0           1                    5\n",
            "4   67    0             1         1           2                    5\n",
            "<class 'pandas.core.frame.DataFrame'>\n",
            "RangeIndex: 627 entries, 0 to 626\n",
            "Data columns (total 6 columns):\n",
            "Age                    627 non-null int64\n",
            "Sex                    627 non-null int64\n",
            "Hypertension           627 non-null int64\n",
            "Daibetes               627 non-null int64\n",
            "WFNS grade             627 non-null int64\n",
            "Outcome at 3 months    627 non-null int64\n",
            "dtypes: int64(6)\n",
            "memory usage: 29.5 KB\n",
            "None\n"
          ],
          "name": "stdout"
        }
      ]
    },
    {
      "cell_type": "code",
      "metadata": {
        "id": "FVKqGlOa3l3O",
        "colab_type": "code",
        "colab": {}
      },
      "source": [
        "def prepare_data_for_model(raw_dataframe, \n",
        "                           target_columns, \n",
        "                           drop_first = False, \n",
        "                           make_na_col = True):\n",
        "    \n",
        "    # dummy all categorical fields \n",
        "    dataframe_dummy = pd.get_dummies(raw_dataframe, columns=target_columns, \n",
        "                                     drop_first=drop_first, \n",
        "                                     dummy_na=make_na_col)\n",
        "    return (dataframe_dummy)"
      ],
      "execution_count": 0,
      "outputs": []
    },
    {
      "cell_type": "code",
      "metadata": {
        "id": "a48VLd343nM_",
        "colab_type": "code",
        "colab": {
          "base_uri": "https://localhost:8080/",
          "height": 374
        },
        "outputId": "14b1df80-787b-4869-d41c-3baa7f662f30"
      },
      "source": [
        "num_attribs = ['Age']\n",
        "cat_attribs = ['Sex','Hypertension','Daibetes','WFNS grade']\n",
        "df_train_ready = prepare_data_for_model(df,cat_attribs)\n",
        "#df_sub_ready = prepare_data_for_model(df_test,cat_attribs)\n",
        "df_train_ready.info()"
      ],
      "execution_count": 49,
      "outputs": [
        {
          "output_type": "stream",
          "text": [
            "<class 'pandas.core.frame.DataFrame'>\n",
            "RangeIndex: 627 entries, 0 to 626\n",
            "Data columns (total 16 columns):\n",
            "Age                    627 non-null int64\n",
            "Outcome at 3 months    627 non-null int64\n",
            "Sex_0.0                627 non-null uint8\n",
            "Sex_1.0                627 non-null uint8\n",
            "Sex_nan                627 non-null uint8\n",
            "Hypertension_0.0       627 non-null uint8\n",
            "Hypertension_1.0       627 non-null uint8\n",
            "Hypertension_nan       627 non-null uint8\n",
            "Daibetes_0.0           627 non-null uint8\n",
            "Daibetes_1.0           627 non-null uint8\n",
            "Daibetes_nan           627 non-null uint8\n",
            "WFNS grade_1.0         627 non-null uint8\n",
            "WFNS grade_2.0         627 non-null uint8\n",
            "WFNS grade_3.0         627 non-null uint8\n",
            "WFNS grade_4.0         627 non-null uint8\n",
            "WFNS grade_nan         627 non-null uint8\n",
            "dtypes: int64(2), uint8(14)\n",
            "memory usage: 18.5 KB\n"
          ],
          "name": "stdout"
        }
      ]
    },
    {
      "cell_type": "code",
      "metadata": {
        "id": "QMKurDwV2G1A",
        "colab_type": "code",
        "colab": {}
      },
      "source": [
        "X = df_train_ready.loc[:, 'Age':'WFNS grade_nan']\n",
        "y = df_train_ready.loc[:,'Outcome at 3 months']\n",
        "\n",
        "from sklearn.model_selection import train_test_split\n",
        "X_train, X_test, y_train, y_test = train_test_split(X,y,test_size=0.2, random_state=42, stratify=y)"
      ],
      "execution_count": 0,
      "outputs": []
    },
    {
      "cell_type": "code",
      "metadata": {
        "id": "ml70F0v3yQuy",
        "colab_type": "code",
        "colab": {}
      },
      "source": [
        "num_attribs = ['Age']\n",
        "cat_attribs = ['Sex','Hypertension','Daibetes','WFNS grade']"
      ],
      "execution_count": 0,
      "outputs": []
    },
    {
      "cell_type": "code",
      "metadata": {
        "id": "FRzTXDYv1y43",
        "colab_type": "code",
        "colab": {}
      },
      "source": [
        "from sklearn.pipeline import Pipeline\n",
        "from sklearn.preprocessing import MinMaxScaler, LabelBinarizer, OneHotEncoder\n",
        "from sklearn.pipeline import FeatureUnion\n",
        "from sklearn.base import BaseEstimator, TransformerMixin\n",
        "class DataFrameSelector(BaseEstimator, TransformerMixin):\n",
        "    def __init__(self, attribute_names):\n",
        "        self.attribute_names = attribute_names\n",
        "    def fit(self, X, y=None):\n",
        "        return self\n",
        "    def transform(self, X):\n",
        "        return X[self.attribute_names].values\n",
        "    \n",
        "from sklearn.base import TransformerMixin #gives fit_transform method for free\n",
        "class MyLabelBinarizer(TransformerMixin):\n",
        "    def __init__(self, *args, **kwargs):\n",
        "        self.encoder = LabelBinarizer(*args, **kwargs)\n",
        "    def fit(self, x, y=0):\n",
        "        self.encoder.fit(x)\n",
        "        return self\n",
        "    def transform(self, x, y=0):\n",
        "        return self.encoder.transform(x)"
      ],
      "execution_count": 0,
      "outputs": []
    },
    {
      "cell_type": "code",
      "metadata": {
        "id": "YBJoCrBo12uM",
        "colab_type": "code",
        "colab": {}
      },
      "source": [
        "num_pipeline = Pipeline([\n",
        "    ('selector', DataFrameSelector(num_attribs)),\n",
        "    ('num_scaler',MinMaxScaler()),\n",
        "])"
      ],
      "execution_count": 0,
      "outputs": []
    },
    {
      "cell_type": "code",
      "metadata": {
        "id": "zVtJFuHs14WY",
        "colab_type": "code",
        "colab": {}
      },
      "source": [
        "cat_pipeline = Pipeline([\n",
        "    ('selector', DataFrameSelector(cat_attribs)),\n",
        "    ('label_binarizer', OneHotEncoder()),\n",
        "])"
      ],
      "execution_count": 0,
      "outputs": []
    },
    {
      "cell_type": "code",
      "metadata": {
        "id": "fNpaCBty16Pz",
        "colab_type": "code",
        "colab": {}
      },
      "source": [
        "full_pipeline = FeatureUnion(transformer_list=[\n",
        "    (\"num_pipeline\", num_pipeline),\n",
        "    (\"cat_pipeline\", cat_pipeline),\n",
        "])"
      ],
      "execution_count": 0,
      "outputs": []
    },
    {
      "cell_type": "code",
      "metadata": {
        "id": "CILA39xW18DA",
        "colab_type": "code",
        "colab": {}
      },
      "source": [
        "#X_train_prep = full_pipeline.fit_transform(X_train)\n",
        "#y_train = full_pipeline.fit_transform(y_train)\n",
        "#df_sub_prep = full_pipeline.fit_transform(df_test)"
      ],
      "execution_count": 0,
      "outputs": []
    },
    {
      "cell_type": "code",
      "metadata": {
        "id": "KE-aQJKk1_ne",
        "colab_type": "code",
        "colab": {
          "base_uri": "https://localhost:8080/",
          "height": 190
        },
        "outputId": "878d4e29-6525-4e04-ad41-687f1e186d49"
      },
      "source": [
        "from sklearn.linear_model import LogisticRegression\n",
        "\n",
        "lr = LogisticRegression()\n",
        "lr.fit(X_train, y_train)"
      ],
      "execution_count": 57,
      "outputs": [
        {
          "output_type": "stream",
          "text": [
            "/usr/local/lib/python3.6/dist-packages/sklearn/linear_model/logistic.py:432: FutureWarning: Default solver will be changed to 'lbfgs' in 0.22. Specify a solver to silence this warning.\n",
            "  FutureWarning)\n",
            "/usr/local/lib/python3.6/dist-packages/sklearn/linear_model/logistic.py:469: FutureWarning: Default multi_class will be changed to 'auto' in 0.22. Specify the multi_class option to silence this warning.\n",
            "  \"this warning.\", FutureWarning)\n"
          ],
          "name": "stderr"
        },
        {
          "output_type": "execute_result",
          "data": {
            "text/plain": [
              "LogisticRegression(C=1.0, class_weight=None, dual=False, fit_intercept=True,\n",
              "                   intercept_scaling=1, l1_ratio=None, max_iter=100,\n",
              "                   multi_class='warn', n_jobs=None, penalty='l2',\n",
              "                   random_state=None, solver='warn', tol=0.0001, verbose=0,\n",
              "                   warm_start=False)"
            ]
          },
          "metadata": {
            "tags": []
          },
          "execution_count": 57
        }
      ]
    },
    {
      "cell_type": "code",
      "metadata": {
        "id": "G8-NCZm92lr9",
        "colab_type": "code",
        "colab": {
          "base_uri": "https://localhost:8080/",
          "height": 34
        },
        "outputId": "bd9e1887-bd97-420f-ce14-0d95228d2a53"
      },
      "source": [
        "lr.score(X_test, y_test)"
      ],
      "execution_count": 58,
      "outputs": [
        {
          "output_type": "execute_result",
          "data": {
            "text/plain": [
              "0.7380952380952381"
            ]
          },
          "metadata": {
            "tags": []
          },
          "execution_count": 58
        }
      ]
    },
    {
      "cell_type": "code",
      "metadata": {
        "id": "FA79ngQy2tY3",
        "colab_type": "code",
        "colab": {}
      },
      "source": [
        ""
      ],
      "execution_count": 0,
      "outputs": []
    }
  ]
}